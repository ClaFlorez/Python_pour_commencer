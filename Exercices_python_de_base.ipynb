{
  "nbformat": 4,
  "nbformat_minor": 0,
  "metadata": {
    "colab": {
      "provenance": []
    },
    "kernelspec": {
      "name": "python3",
      "display_name": "Python 3"
    },
    "language_info": {
      "name": "python"
    }
  },
  "cells": [
    {
      "cell_type": "code",
      "source": [
        "x = 1     # Assign 1 to variable x\n",
        "print(x)  # Print the value of the variable x\n",
        "# Output: 1\n",
        "x + 1 #  the value of the variable x not change\n",
        "print(x+1)  # Print the value of the variable x\n",
        "# Output: 2\n",
        "y = x / 2\n",
        "y\n",
        "# Output: 0.5\n"
      ],
      "metadata": {
        "colab": {
          "base_uri": "https://localhost:8080/"
        },
        "id": "GgoQWONpoG2x",
        "outputId": "93bb4094-d224-4f87-c488-8a06d432be89"
      },
      "execution_count": null,
      "outputs": [
        {
          "output_type": "stream",
          "name": "stdout",
          "text": [
            "1\n",
            "2\n"
          ]
        },
        {
          "output_type": "execute_result",
          "data": {
            "text/plain": [
              "0.5"
            ]
          },
          "metadata": {},
          "execution_count": 9
        }
      ]
    },
    {
      "cell_type": "markdown",
      "source": [
        "# Tout ce que vous devez savoir sur le REPL de Python\n",
        "\n",
        "## Qu'est-ce que le REPL ?\n",
        "\n",
        "Le **REPL (Read-Eval-Print Loop)** est un environnement interactif qui permet d'exécuter des commandes Python en temps réel. Il est très utile pour tester du code rapidement sans avoir besoin de créer un fichier `.py`.\n",
        "\n",
        "## Comment accéder au REPL ?\n",
        "\n",
        "### Sur Windows\n",
        "\n",
        "1. **Ouvrir l'invite de commande (cmd) ou PowerShell**\n",
        "   - `Win + R`, tapez `cmd`, puis appuyez sur `Entrée`\n",
        "   - Ou ouvrez PowerShell (`Win + X` → \"Windows Terminal\" ou \"PowerShell\")\n",
        "2. **Lancer Python**\n",
        "   ```sh\n",
        "   python\n",
        "   ```\n",
        "   Si cela ne fonctionne pas, essayez :\n",
        "   ```sh\n",
        "   python3\n",
        "   ```\n",
        "   ou\n",
        "   ```sh\n",
        "   py\n",
        "   ```\n",
        "3. Vous devriez voir apparaître :\n",
        "   ```sh\n",
        "   Python 3.x.x (default, ...)\n",
        "   Type \"help\", \"copyright\", \"credits\" or \"license\" for more information.\n",
        "   >>>\n",
        "   ```\n",
        "\n",
        "### Sur Linux/macOS\n",
        "\n",
        "1. **Ouvrir le terminal** (`Ctrl + Alt + T` sur Linux, `Cmd + Espace` puis \"Terminal\" sur macOS)\n",
        "2. **Lancer Python**\n",
        "   ```sh\n",
        "   python3\n",
        "   ```\n",
        "   ou\n",
        "   ```sh\n",
        "   python\n",
        "   ```\n",
        "3. Si Python est installé, le prompt `>>>` s'affiche.\n",
        "\n",
        "## Comment utiliser le REPL ?\n",
        "\n",
        "Dans le REPL, vous pouvez exécuter directement des commandes Python. Par exemple :\n",
        "\n",
        "```python\n",
        ">>> 2 + 2\n",
        "4\n",
        ">>> print(\"Bonjour, monde !\")\n",
        "Bonjour, monde !\n",
        "```\n",
        "\n",
        "Les structures multi-lignes comme les boucles ou les fonctions affichent `...` pour indiquer que l'entrée est incomplète :\n",
        "\n",
        "```python\n",
        ">>> for i in range(3):\n",
        "...     print(f\"Numéro {i}\")\n",
        "...\n",
        "Numéro 0\n",
        "Numéro 1\n",
        "Numéro 2\n",
        "```\n",
        "\n",
        "## Quitter le REPL\n",
        "\n",
        "Pour fermer le REPL, utilisez :\n",
        "\n",
        "```python\n",
        ">>> exit()\n",
        "```\n",
        "\n",
        "Ou les raccourcis clavier :\n",
        "\n",
        "- **Linux/macOS** : `Ctrl + D`\n",
        "- **Windows** : `Ctrl + Z` puis `Entrée`\n",
        "\n",
        "## Vérifier si Python est installé\n",
        "\n",
        "Si `python` ou `python3` ne fonctionne pas, vérifiez l'installation avec :\n",
        "\n",
        "```sh\n",
        "python --version\n",
        "```\n",
        "\n",
        "ou\n",
        "\n",
        "```sh\n",
        "python3 --version\n",
        "```\n",
        "\n",
        "Si Python n'est pas installé, téléchargez-le sur [python.org](https://www.python.org/downloads/).\n",
        "\n",
        "---\n",
        "\n",
        "Avec le REPL, vous pouvez tester des idées rapidement, déboguer du code et explorer les fonctionnalités de Python de manière interactive ! 🚀\n",
        "\n"
      ],
      "metadata": {
        "id": "VO-EH4TzwJDV"
      }
    },
    {
      "cell_type": "code",
      "source": [
        ">>> x = 5\n",
        ">>> x + 1  # Muestra 6 en el intérprete, pero no cambia x\n",
        "6"
      ],
      "metadata": {
        "colab": {
          "base_uri": "https://localhost:8080/"
        },
        "id": "GcvD5_8etAzP",
        "outputId": "2cb586f9-f352-4b97-ee33-d6bbe615f4a5"
      },
      "execution_count": null,
      "outputs": [
        {
          "output_type": "execute_result",
          "data": {
            "text/plain": [
              "6"
            ]
          },
          "metadata": {},
          "execution_count": 10
        }
      ]
    },
    {
      "cell_type": "code",
      "execution_count": null,
      "metadata": {
        "colab": {
          "base_uri": "https://localhost:8080/",
          "height": 109
        },
        "id": "vx9aTy1W_nt2",
        "outputId": "dc3de304-4277-4505-a3d8-b475cf7796cd"
      },
      "outputs": [
        {
          "output_type": "stream",
          "name": "stdout",
          "text": [
            "1\n",
            "1\n",
            "2\n",
            "3\n"
          ]
        },
        {
          "output_type": "execute_result",
          "data": {
            "text/plain": [
              "'testing hello, world!'"
            ],
            "application/vnd.google.colaboratory.intrinsic+json": {
              "type": "string"
            }
          },
          "metadata": {},
          "execution_count": 2
        }
      ],
      "source": [
        "# You can place multiple statements in one line, separated by semicolon.\n",
        "print(x); print(x+1); print(x+2)  # No ending semicolon\n",
        "# Output:\n",
        "# 1\n",
        "# 2\n",
        "# 3\n",
        "\n",
        "# An expression in brackets [] (i.e., list) can span multiple lines\n",
        "x = [1,\n",
        "     22,\n",
        "     333]  # Re-assign a list denoted as [v1, v2, ...] to variable x\n",
        "x\n",
        "# Output: [1, 22, 333]\n",
        "\n",
        "# An expression in braces {} (i.e., associative array) can also span multiple lines\n",
        "x = {'name':'Peter',\n",
        "     'gender':'male',\n",
        "     'age':21\n",
        "    }   # Re-assign a dictionary denoted as {k1:v1, k2:v2,...} to variable x\n",
        "x\n",
        "# Output: {'name': 'Peter', 'gender': 'male', 'age': 21}\n",
        "\n",
        "# An expression in parentheses () can also span multiple lines\n",
        "# You can break a long expression into several lines by enclosing it with parentheses ()\n",
        "x =(1 +\n",
        "    2\n",
        "    + 3\n",
        "    -\n",
        "    4)\n",
        "x\n",
        "# Output: 2\n",
        "\n",
        "# You can break a long string into several lines with parentheses () too\n",
        "s = ('testing '   # No commas\n",
        "     'hello, '\n",
        "     'world!')\n",
        "s\n",
        "# Output: 'testing hello, world!'\n"
      ]
    },
    {
      "cell_type": "code",
      "source": [
        "2 ** 2  # 2 elevado a 888\n",
        "s1 = 'pomme'\n",
        "s1\n",
        "s2 = \"orange\"\n",
        "s2\n",
        "s3 =\"\\\"orange\\\"\"\n",
        "s3"
      ],
      "metadata": {
        "colab": {
          "base_uri": "https://localhost:8080/",
          "height": 36
        },
        "id": "kpJcQMOa2xEL",
        "outputId": "85b43a38-06a2-4588-bb3e-d10375b0b797"
      },
      "execution_count": null,
      "outputs": [
        {
          "output_type": "execute_result",
          "data": {
            "text/plain": [
              "'\"orange\"'"
            ],
            "application/vnd.google.colaboratory.intrinsic+json": {
              "type": "string"
            }
          },
          "metadata": {},
          "execution_count": 14
        }
      ]
    },
    {
      "cell_type": "code",
      "source": [
        "s3 =\"\\\"orange\\\"\"\n",
        "s3"
      ],
      "metadata": {
        "colab": {
          "base_uri": "https://localhost:8080/",
          "height": 36
        },
        "id": "xelC2eDt3ypk",
        "outputId": "efc36792-3a95-4f12-d573-02fd31b3f261"
      },
      "execution_count": null,
      "outputs": [
        {
          "output_type": "execute_result",
          "data": {
            "text/plain": [
              "'\"orange\"'"
            ],
            "application/vnd.google.colaboratory.intrinsic+json": {
              "type": "string"
            }
          },
          "metadata": {},
          "execution_count": 15
        }
      ]
    },
    {
      "cell_type": "code",
      "source": [
        "s4 = \"\"\"testing\n",
        "12345\"\"\"\n",
        "s4"
      ],
      "metadata": {
        "colab": {
          "base_uri": "https://localhost:8080/",
          "height": 36
        },
        "id": "cWR7v-1T36vL",
        "outputId": "4886c263-ed63-403d-c457-daf26278f03e"
      },
      "execution_count": null,
      "outputs": [
        {
          "output_type": "execute_result",
          "data": {
            "text/plain": [
              "'testing\\n12345'"
            ],
            "application/vnd.google.colaboratory.intrinsic+json": {
              "type": "string"
            }
          },
          "metadata": {},
          "execution_count": 19
        }
      ]
    },
    {
      "cell_type": "code",
      "source": [
        "x = 1,23456\n",
        "type(x)\n",
        "round(x)"
      ],
      "metadata": {
        "id": "Q4-Z6YkoHo6c"
      },
      "execution_count": null,
      "outputs": []
    },
    {
      "cell_type": "markdown",
      "source": [
        "**Python interprète cela comme un tuple** contenant deux éléments : ***l'entier 1*** et ***l'entier 23456***. *La virgule est utilisée pour séparer les éléments d'un tuple.*"
      ],
      "metadata": {
        "id": "CP5clZHnIkPx"
      }
    },
    {
      "cell_type": "code",
      "source": [
        "x = 1.23456 #simplement changer la virgule par un point\n",
        "type(x)\n",
        "round(x)"
      ],
      "metadata": {
        "colab": {
          "base_uri": "https://localhost:8080/"
        },
        "id": "Qzm9IPgj4rNY",
        "outputId": "f2e65ca2-f170-4b0a-fad5-4e0fa079ed03"
      },
      "execution_count": null,
      "outputs": [
        {
          "output_type": "execute_result",
          "data": {
            "text/plain": [
              "1"
            ]
          },
          "metadata": {},
          "execution_count": 6
        }
      ]
    },
    {
      "cell_type": "markdown",
      "source": [
        "## **round() est conçu pour les nombres, pas les tuples** :\n",
        "\n",
        "La fonction round() en Python est spécifiquement conçue pour arrondir des nombres individuels (types de données int ou float). Elle attend un nombre comme argument et renvoie la version arrondie de ce nombre.\n",
        "\n",
        "Un tuple, en revanche, est une collection ordonnée d'éléments. Il peut contenir des nombres, des chaînes de caractères, ou même d'autres tuples, mais il n'est pas lui-même un nombre.\n",
        "\n",
        "### **Python ne sait pas comment arrondir un tuple :**\n",
        "\n",
        "*Lorsque tu essaies d'appliquer round() directement à un tuple, Python ne sait pas quoi faire. *Il ne peut pas simplement arrondir tous les éléments du tuple à la fois, car il n'y a pas de définition intégrée pour arrondir un tuple dans son ensemble.\n",
        "\n",
        "C'est pour cela que tu obtiens l'erreur TypeError: type tuple doesn't define __round__ method. En gros, Python te dit que le type de données \"tuple\" n'a pas de méthode spéciale \"round\" qui définit comment l'arrondir.\n",
        "La solution : arrondir chaque élément individuellement :\n",
        "\n",
        "Pour arrondir les nombres à l'intérieur d'un tuple, **tu dois accéder à chaque élément du tuple un par un et appliquer la fonction round() à chacun d'eux séparément.**\n",
        "\n",
        "C'est ce que fait la solution :\n",
        "\n",
        "rounded_x = tuple(round(item) for item in x)\n",
        "Use code with caution\n",
        "Cette ligne de code crée un nouveau tuple en itérant sur chaque élément (item) du tuple original (x), en appliquant round() à chaque item, et en collectant les résultats dans le nouveau tuple rounded_x.\n",
        "En résumé : round() ne fonctionne pas directement sur un tuple car il s'attend à un nombre comme argument. Pour arrondir les nombres dans un tuple, il faut appliquer round() à chaque élément individuellement.\n",
        "\n",
        "### En résumé:\n",
        "\n",
        "**Virgule (,) :** Utilisée pour séparer les éléments d'un tuple.\n",
        "**Point (.) :** Utilisée pour représenter la partie décimale d'un nombre de type float."
      ],
      "metadata": {
        "id": "rbVYj3LKD2Wr"
      }
    },
    {
      "cell_type": "code",
      "source": [
        "x = 1, 23456  # Define the tuple\n",
        "\n",
        "# Round each element of the tuple individually\n",
        "rounded_x = tuple(round(item) for item in x)\n",
        "\n",
        "print(rounded_x)  # Output: (1, 23456)"
      ],
      "metadata": {
        "colab": {
          "base_uri": "https://localhost:8080/"
        },
        "id": "2aM0_SCVDTy4",
        "outputId": "580c7482-c257-4408-9d80-a686b56debaa"
      },
      "execution_count": null,
      "outputs": [
        {
          "output_type": "stream",
          "name": "stdout",
          "text": [
            "(1, 23456)\n"
          ]
        }
      ]
    },
    {
      "cell_type": "code",
      "source": [
        "type(123)\n",
        "#<class 'int'>"
      ],
      "metadata": {
        "id": "AShbq0mcqp4w",
        "outputId": "2ae1ba44-1414-4627-f930-6c985714f757",
        "colab": {
          "base_uri": "https://localhost:8080/"
        }
      },
      "execution_count": null,
      "outputs": [
        {
          "output_type": "execute_result",
          "data": {
            "text/plain": [
              "int"
            ]
          },
          "metadata": {},
          "execution_count": 2
        }
      ]
    },
    {
      "cell_type": "markdown",
      "source": [
        "## **1️⃣ Boucles `while`**\n",
        "1. Écrivez une boucle `while` qui affiche les nombres de 1 à 10.\n",
        "2. Modifiez votre boucle pour qu’elle n’affiche que les nombres pairs entre 1 et 10.\n",
        "3. Créez une boucle `while` qui demande à l’utilisateur de saisir un nombre positif. Si l’utilisateur entre un nombre négatif, la boucle s’arrête.\n",
        "4. Utilisez une boucle `while` pour calculer la somme des nombres de 1 à 100.\n",
        "5. Implémentez un programme qui demande un mot de passe à l’utilisateur jusqu’à ce qu’il entre `\"Python123\"`.\n"
      ],
      "metadata": {
        "id": "FfALPG5mf8bk"
      }
    },
    {
      "cell_type": "code",
      "source": [
        "#01 boucle while : nombres de 1 a 10\n",
        "i = 1\n",
        "while i <= 10:\n",
        "    print(i)\n",
        "    i += 1"
      ],
      "metadata": {
        "colab": {
          "base_uri": "https://localhost:8080/"
        },
        "id": "EqHTiAxRf8FS",
        "outputId": "82cf5d68-b910-49d6-9e9c-34295378e11a"
      },
      "execution_count": null,
      "outputs": [
        {
          "output_type": "stream",
          "name": "stdout",
          "text": [
            "1\n",
            "2\n",
            "3\n",
            "4\n",
            "5\n",
            "6\n",
            "7\n",
            "8\n",
            "9\n",
            "10\n"
          ]
        }
      ]
    },
    {
      "cell_type": "code",
      "source": [
        "#02 boucle while, afficher les pairs\n",
        "i = 2\n",
        "while i <= 10:\n",
        "    print(i)\n",
        "    i += 2\n",
        "\n"
      ],
      "metadata": {
        "colab": {
          "base_uri": "https://localhost:8080/"
        },
        "id": "dZEhvW5BokEI",
        "outputId": "2e03cd24-d52f-4913-8317-ba9528aefb31"
      },
      "execution_count": null,
      "outputs": [
        {
          "output_type": "stream",
          "name": "stdout",
          "text": [
            "2\n",
            "4\n",
            "6\n",
            "8\n",
            "10\n"
          ]
        }
      ]
    },
    {
      "cell_type": "code",
      "source": [
        "#02 boucle while, afficher les pairs * copilot\n",
        "i = 1\n",
        "while i <= 10:\n",
        "    if i % 2 == 0:\n",
        "        print(i)\n",
        "    i += 1"
      ],
      "metadata": {
        "colab": {
          "base_uri": "https://localhost:8080/"
        },
        "id": "CXzRa0xDo55l",
        "outputId": "097c59d7-c23e-4ac6-f1ae-d39255a50038"
      },
      "execution_count": null,
      "outputs": [
        {
          "output_type": "stream",
          "name": "stdout",
          "text": [
            "2\n",
            "4\n",
            "6\n",
            "8\n",
            "10\n"
          ]
        }
      ]
    },
    {
      "cell_type": "code",
      "source": [
        "#Créez une boucle while qui demande à l’utilisateur de saisir un nombre positif. Si l’utilisateur entre un nombre négatif, la boucle s’arrête.\n",
        "while True:\n",
        "    nombre = int(input(\"Entrez un nombre positif : \"))\n",
        "    if nombre < 0:\n",
        "        break\n",
        "    print(\"Vous avez saisi :\", nombre)\n"
      ],
      "metadata": {
        "colab": {
          "base_uri": "https://localhost:8080/"
        },
        "id": "2TBI0oiHpGSf",
        "outputId": "81125ae6-8f9b-48ea-ac9b-68d24c225cfc"
      },
      "execution_count": null,
      "outputs": [
        {
          "name": "stdout",
          "output_type": "stream",
          "text": [
            "Entrez un nombre positif : 3\n",
            "Vous avez saisi : 3\n",
            "Entrez un nombre positif : -1\n"
          ]
        }
      ]
    },
    {
      "cell_type": "code",
      "source": [
        "#Utilisez une boucle while pour calculer la somme des nombres de 1 à 100.\n",
        "\n",
        "somme = 0\n",
        "i = 1\n",
        "while i <= 100:\n",
        "    somme += i\n",
        "    i += 1\n",
        "print(\"La somme des nombres de 1 à 100 est :\", somme)\n",
        "\n"
      ],
      "metadata": {
        "colab": {
          "base_uri": "https://localhost:8080/"
        },
        "id": "xCpt69eppmf7",
        "outputId": "aa43fff7-c86e-49b2-ad7e-8fee829660e1"
      },
      "execution_count": null,
      "outputs": [
        {
          "output_type": "stream",
          "name": "stdout",
          "text": [
            "La somme des nombres de 1 à 100 est : 5050\n"
          ]
        }
      ]
    },
    {
      "cell_type": "code",
      "source": [
        "#05 option poussé avec un for\n",
        "import getpass\n",
        "\n",
        "attempts = 3  # Allow 3 attempts\n",
        "\n",
        "for _ in range(attempts):\n",
        "    password = getpass.getpass(\"Enter the password: \")\n",
        "    if password == \"Python123\":\n",
        "        print(\"Welcome!\")\n",
        "        break  # Exit the loop if the password is correct\n",
        "    else:\n",
        "        print(\"Incorrect password. Please try again.\")\n",
        "else:\n",
        "    print(f\"Access denied after {attempts} attempts.\")"
      ],
      "metadata": {
        "colab": {
          "base_uri": "https://localhost:8080/"
        },
        "id": "6GLW7IXZwsJM",
        "outputId": "b081aaec-da52-4c31-d42e-cc28b5233904"
      },
      "execution_count": null,
      "outputs": [
        {
          "output_type": "stream",
          "name": "stdout",
          "text": [
            "Enter the password: ··········\n",
            "Incorrect password. Please try again.\n",
            "Enter the password: ··········\n",
            "Incorrect password. Please try again.\n",
            "Enter the password: ··········\n",
            "Incorrect password. Please try again.\n",
            "Access denied after 3 attempts.\n"
          ]
        }
      ]
    },
    {
      "cell_type": "code",
      "source": [
        "#05 Implémentez un programme qui demande un mot de passe à l’utilisateur jusqu’à ce qu’il entre \"Python123\".\n",
        "import getpass\n",
        "i=1\n",
        "mot_de_passe = \"\"\n",
        "while mot_de_passe != \"Python123\" and i<=3:\n",
        "    mot_de_passe = getpass.getpass(\"Entrez le mot de passe: \")\n",
        "    if mot_de_passe == \"Python123\":\n",
        "        print(\"Bienvenue !\")\n",
        "    else:\n",
        "      i+=1\n",
        "if mot_de_passe != \"Python123\":\n",
        "    print(\"Accès refusé après 3 tentatives.\")"
      ],
      "metadata": {
        "colab": {
          "base_uri": "https://localhost:8080/"
        },
        "id": "iKeiis0CrPO0",
        "outputId": "2c64827a-1736-4411-ef8e-b36c0ab61294"
      },
      "execution_count": null,
      "outputs": [
        {
          "output_type": "stream",
          "name": "stdout",
          "text": [
            "Entrez le mot de passe: ··········\n",
            "Entrez le mot de passe: ··········\n",
            "Entrez le mot de passe: ··········\n",
            "Accès refusé après 3 tentatives.\n"
          ]
        }
      ]
    },
    {
      "cell_type": "markdown",
      "source": [
        "**2️⃣ Boucles `for`**\n",
        "6. Écrivez une boucle `for` qui affiche les nombres de 1 à 10.\n",
        "7. Utilisez une boucle `for` pour afficher les éléments d’une liste `[\"pomme\", \"banane\", \"cerise\"]`.\n",
        "8. Écrivez un programme qui affiche chaque lettre du mot `\"PYTHON\"`, une par ligne.\n",
        "9. Utilisez `range()` dans une boucle `for` pour afficher les nombres de 5 à 50 avec un pas de 5.\n",
        "10. Écrivez une boucle `for` qui calcule la somme des nombres de 1 à 50.\n"
      ],
      "metadata": {
        "id": "XWfwDdV-wS_b"
      }
    },
    {
      "cell_type": "code",
      "source": [
        "#06 Écrivez une boucle for qui affiche les nombres de 1 à 10.\n",
        "for i in range(1, 11):\n",
        "    print(i)\n",
        "#"
      ],
      "metadata": {
        "colab": {
          "base_uri": "https://localhost:8080/"
        },
        "id": "4HbqMu_Dxbwu",
        "outputId": "6fdda575-d646-479f-c54e-1cc654969cf3"
      },
      "execution_count": null,
      "outputs": [
        {
          "output_type": "stream",
          "name": "stdout",
          "text": [
            "1\n",
            "2\n",
            "3\n",
            "4\n",
            "5\n",
            "6\n",
            "7\n",
            "8\n",
            "9\n",
            "10\n"
          ]
        }
      ]
    },
    {
      "cell_type": "code",
      "source": [
        "#06 autre facon de faire\n",
        "i=1\n",
        "for i in range(1, 11):\n",
        "    print(i)"
      ],
      "metadata": {
        "colab": {
          "base_uri": "https://localhost:8080/"
        },
        "id": "c1YeNw4Gxp3b",
        "outputId": "49301213-821e-4891-d232-17cad4e2c33a"
      },
      "execution_count": null,
      "outputs": [
        {
          "output_type": "stream",
          "name": "stdout",
          "text": [
            "1\n",
            "2\n",
            "3\n",
            "4\n",
            "5\n",
            "6\n",
            "7\n",
            "8\n",
            "9\n",
            "10\n"
          ]
        }
      ]
    },
    {
      "cell_type": "code",
      "source": [
        "#07 Utilisez une boucle for pour afficher les éléments d’une liste [\"pomme\", \"banane\", \"cerise\"]\n",
        "fruits = [\"pomme\", \"banane\", \"cerise\"]\n",
        "for fruit in fruits:\n",
        "    print(fruit)\n"
      ],
      "metadata": {
        "colab": {
          "base_uri": "https://localhost:8080/"
        },
        "id": "15moj4_RyTdU",
        "outputId": "ac3c3593-bd92-4b62-d050-2cfa6ff75793"
      },
      "execution_count": null,
      "outputs": [
        {
          "output_type": "stream",
          "name": "stdout",
          "text": [
            "pomme\n",
            "banane\n",
            "cerise\n"
          ]
        }
      ]
    },
    {
      "cell_type": "code",
      "source": [
        "#07 autre version\n",
        "fruits = [\"pomme\", \"banane\", \"cerise\"]\n",
        "for i, fruit in enumerate(fruits):\n",
        "    if i < len(fruits) - 1:\n",
        "        print(fruit, end=\", \")\n",
        "    else:\n",
        "        print(fruit)"
      ],
      "metadata": {
        "colab": {
          "base_uri": "https://localhost:8080/"
        },
        "id": "L1kDVV8ay30z",
        "outputId": "45ddfb90-aadc-4839-9e97-ba77083d3982"
      },
      "execution_count": null,
      "outputs": [
        {
          "output_type": "stream",
          "name": "stdout",
          "text": [
            "pomme, banane, cerise\n"
          ]
        }
      ]
    },
    {
      "cell_type": "code",
      "source": [
        "#08 Écrivez un programme qui affiche chaque lettre du mot \"PYTHON\", une par ligne.\n",
        "mot = \"PYTHON\"\n",
        "for lettre in mot:\n",
        "    print(lettre)"
      ],
      "metadata": {
        "colab": {
          "base_uri": "https://localhost:8080/"
        },
        "id": "56pBRM2hzlN1",
        "outputId": "5181ebe4-42bb-4bb7-dc1f-ad172b2a4338"
      },
      "execution_count": null,
      "outputs": [
        {
          "output_type": "stream",
          "name": "stdout",
          "text": [
            "P\n",
            "Y\n",
            "T\n",
            "H\n",
            "O\n",
            "N\n"
          ]
        }
      ]
    },
    {
      "cell_type": "code",
      "source": [
        "#08 autre option\n",
        "mot = \"PYTHON\"\n",
        "for i, lettre in enumerate(mot):\n",
        "    if i < len(mot) - 1:\n",
        "        print(lettre, end=\", \")\n",
        "    else:\n",
        "        print(lettre)"
      ],
      "metadata": {
        "colab": {
          "base_uri": "https://localhost:8080/"
        },
        "id": "uND9Eeilz8_s",
        "outputId": "c106d34a-265f-42b1-cfef-26a6f4d7e004"
      },
      "execution_count": null,
      "outputs": [
        {
          "output_type": "stream",
          "name": "stdout",
          "text": [
            "P, Y, T, H, O, N\n"
          ]
        }
      ]
    },
    {
      "cell_type": "code",
      "source": [
        "#09 Utilisez range() dans une boucle for pour afficher les nombres de 5 à 50 avec un pas de 5.\n",
        "for i in range(5, 51, 5):\n",
        "    print(i)"
      ],
      "metadata": {
        "colab": {
          "base_uri": "https://localhost:8080/"
        },
        "id": "-Bj6ftaq0USI",
        "outputId": "3ca00810-e9b6-47f2-fd8c-db2892c1a6c1"
      },
      "execution_count": null,
      "outputs": [
        {
          "output_type": "stream",
          "name": "stdout",
          "text": [
            "5\n",
            "10\n",
            "15\n",
            "20\n",
            "25\n",
            "30\n",
            "35\n",
            "40\n",
            "45\n",
            "50\n"
          ]
        }
      ]
    },
    {
      "cell_type": "code",
      "source": [
        "#10 Écrivez une boucle for qui calcule la somme des nombres de 1 à 50.\n",
        "somme = 0\n",
        "for i in range(1, 51):\n",
        "    somme += i\n",
        "print(\"La somme des nombres de 1 à 50 est :\", somme)"
      ],
      "metadata": {
        "colab": {
          "base_uri": "https://localhost:8080/"
        },
        "id": "m_2oZIQb04rV",
        "outputId": "1b8b2218-400c-455d-a964-37b82197e080"
      },
      "execution_count": null,
      "outputs": [
        {
          "output_type": "stream",
          "name": "stdout",
          "text": [
            "La somme des nombres de 1 à 50 est : 1275\n"
          ]
        }
      ]
    },
    {
      "cell_type": "markdown",
      "source": [
        "**3️⃣ Listes**\n",
        "11. Créez une liste `nombres` contenant les valeurs `[1, 2, 3, 4, 5]`. Ajoutez le nombre `6` à la fin.\n",
        "12. Remplacez le troisième élément de la liste par `100`.\n",
        "13. Supprimez le premier élément de la liste sans utiliser `del`.\n",
        "14. Écrivez une fonction qui prend une liste de nombres et retourne la somme des éléments.\n",
        "15. Créez une liste `mots` contenant 5 mots. Utilisez une boucle `for` pour afficher chaque mot en majuscu"
      ],
      "metadata": {
        "id": "L1EGM3BK1YcC"
      }
    },
    {
      "cell_type": "code",
      "source": [
        "#11 Créez une liste nombres contenant les valeurs [1, 2, 3, 4, 5]. Ajoutez le nombre 6 à la fin\n",
        "nombres = [1, 2, 3, 4, 5]\n",
        "nombres.append(6)\n",
        "print(nombres)\n"
      ],
      "metadata": {
        "colab": {
          "base_uri": "https://localhost:8080/"
        },
        "id": "SLDIf-no1Kdc",
        "outputId": "55659d1d-13ea-4b3c-b8e2-3605758f5cf0"
      },
      "execution_count": null,
      "outputs": [
        {
          "output_type": "stream",
          "name": "stdout",
          "text": [
            "[1, 2, 3, 4, 5, 6]\n"
          ]
        }
      ]
    },
    {
      "cell_type": "code",
      "source": [
        "#12 Remplacez le troisième élément de la liste par 100\n",
        "nombres[2] = 100\n",
        "print(nombres)"
      ],
      "metadata": {
        "colab": {
          "base_uri": "https://localhost:8080/"
        },
        "id": "i1vYcMEc2TNb",
        "outputId": "901d41df-d8f8-4320-b32c-d83e92bfccea"
      },
      "execution_count": null,
      "outputs": [
        {
          "output_type": "stream",
          "name": "stdout",
          "text": [
            "[1, 2, 100, 4, 5, 6]\n"
          ]
        }
      ]
    },
    {
      "cell_type": "code",
      "source": [
        "#13 Supprimez le premier élément de la liste sans utiliser del.\n",
        "nombres.pop(0)\n",
        "print(nombres)\n"
      ],
      "metadata": {
        "colab": {
          "base_uri": "https://localhost:8080/"
        },
        "id": "zBT0RLDE2r_i",
        "outputId": "f18c8da9-4748-47be-e0bc-7fbb634e31e7"
      },
      "execution_count": null,
      "outputs": [
        {
          "output_type": "stream",
          "name": "stdout",
          "text": [
            "[2, 100, 4, 5, 6]\n"
          ]
        }
      ]
    },
    {
      "cell_type": "code",
      "source": [
        "#13 autre facon si j'ai connais la valeur du premier element\n",
        "eliminer = nombres[0]\n",
        "nombres.remove(eliminer)\n",
        "print(nombres)"
      ],
      "metadata": {
        "colab": {
          "base_uri": "https://localhost:8080/"
        },
        "id": "11YMpALt27sG",
        "outputId": "52f3e15b-1ad9-4933-8c9c-bebc92f2b678"
      },
      "execution_count": null,
      "outputs": [
        {
          "output_type": "stream",
          "name": "stdout",
          "text": [
            "[4, 5, 6]\n"
          ]
        }
      ]
    },
    {
      "cell_type": "code",
      "source": [
        "#14 Écrivez une fonction qui prend une liste de nombres et retourne la somme des éléments.\n",
        "def somme_liste(nombres):\n",
        "    somme = 0\n",
        "    for nombre in nombres:\n",
        "        somme += nombre\n",
        "    return somme\n",
        "print(somme_liste(nombres))"
      ],
      "metadata": {
        "colab": {
          "base_uri": "https://localhost:8080/"
        },
        "id": "3au5oOgI27Ph",
        "outputId": "53587acc-2e26-42f7-90ef-940c1bcdba62"
      },
      "execution_count": null,
      "outputs": [
        {
          "output_type": "stream",
          "name": "stdout",
          "text": [
            "115\n"
          ]
        }
      ]
    },
    {
      "cell_type": "code",
      "source": [
        "#autre 14\n",
        "def somme_liste(nombres):\n",
        "    return sum(nombres)\n",
        "print(somme_liste(nombres))"
      ],
      "metadata": {
        "colab": {
          "base_uri": "https://localhost:8080/"
        },
        "id": "FgkDTrkq4yPv",
        "outputId": "88dfa071-5914-4758-aac3-8ff751cd62ee"
      },
      "execution_count": null,
      "outputs": [
        {
          "output_type": "stream",
          "name": "stdout",
          "text": [
            "21\n"
          ]
        }
      ]
    },
    {
      "cell_type": "code",
      "source": [
        "#15 Créez une liste mots contenant 5 mots. Utilisez une boucle for pour\n",
        "#afficher chaque mot en majuscu\n",
        "quantite_mots =int(input(\"Entrez combien de mots vous voulez remtrer :\"))\n",
        "def creer_liste(nb_mots):\n",
        "    mots = []\n",
        "    for i in range(nb_mots):\n",
        "        mot = input(\"Entrez un mot : \")\n",
        "        mots.append(mot)\n",
        "    return mots\n",
        "def changer_maj(mot):\n",
        "    for i in range(len(mot)):\n",
        "        mot[i] = mot[i].upper()\n",
        "    return mot\n",
        "liste = creer_liste(quantite_mots)\n",
        "print(changer_maj(liste))\n",
        "\n"
      ],
      "metadata": {
        "colab": {
          "base_uri": "https://localhost:8080/"
        },
        "id": "Q-5Kwtdq5LR2",
        "outputId": "accba551-ae84-4341-d1e8-716372f2a5f1"
      },
      "execution_count": null,
      "outputs": [
        {
          "output_type": "stream",
          "name": "stdout",
          "text": [
            "Entrez combien de mots vous voulez remtrer :3\n",
            "Entrez un mot : juan\n",
            "Entrez un mot : tili\n",
            "Entrez un mot : yau\n",
            "['JUAN', 'TILI', 'YAU']\n"
          ]
        }
      ]
    },
    {
      "cell_type": "code",
      "source": [
        "#15 autre\n",
        "mots = [\"pomme\", \"banane\", \"cerise\", \"orange\", \"kiwi\"]\n",
        "for mot in mots:\n",
        "    print(mot.upper())\n"
      ],
      "metadata": {
        "colab": {
          "base_uri": "https://localhost:8080/"
        },
        "id": "AOlpwm8ABs6Z",
        "outputId": "185450f8-f359-4c78-e42a-528d1fc70610"
      },
      "execution_count": null,
      "outputs": [
        {
          "output_type": "stream",
          "name": "stdout",
          "text": [
            "POMME\n",
            "BANANE\n",
            "CERISE\n",
            "ORANGE\n",
            "KIWI\n"
          ]
        }
      ]
    },
    {
      "cell_type": "markdown",
      "source": [
        "**4️⃣ Listes et Compréhensions de Listes**\n",
        "16. Créez une liste de carrés des nombres de 1 à 10 en utilisant une boucle `for`.\n",
        "17. Utilisez une **compréhension de liste** pour générer la même liste.\n",
        "18. Créez une liste contenant uniquement les nombres pairs de 1 à 20 en une seule ligne avec une **compréhension de liste**.\n",
        "19. Écrivez une fonction qui filtre une liste pour ne garder que les mots qui ont plus de 5 lettres.\n",
        "20. À partir d’une liste de nombres `[10, 20, 30, 40]`, créez une nouvelle liste contenant les mêmes nombres divisés par 2.\n"
      ],
      "metadata": {
        "id": "IPlMBNIkDigW"
      }
    },
    {
      "cell_type": "code",
      "source": [
        "#16 Créez une liste de carrés des nombres de 1 à 10 en utilisant une boucle for.\n",
        "quarer = []\n",
        "for i in range(1, 11):\n",
        "    quarer.append(i**2)\n",
        "print(quarer)"
      ],
      "metadata": {
        "colab": {
          "base_uri": "https://localhost:8080/"
        },
        "id": "fPPO8IhUDiOh",
        "outputId": "d06ec9cd-1a13-40b6-b6c7-675a87739d8f"
      },
      "execution_count": null,
      "outputs": [
        {
          "output_type": "stream",
          "name": "stdout",
          "text": [
            "[1, 4, 9, 16, 25, 36, 49, 64, 81, 100]\n"
          ]
        }
      ]
    },
    {
      "cell_type": "code",
      "source": [
        "#17 Utilisez une compréhension de liste pour générer la même liste.\n",
        "carres = [i ** 2 for i in range(1, 11)]\n",
        "print(carres)\n"
      ],
      "metadata": {
        "colab": {
          "base_uri": "https://localhost:8080/"
        },
        "id": "qR7N3KQCNZm3",
        "outputId": "14737883-094a-48df-c034-0e950461b44c"
      },
      "execution_count": null,
      "outputs": [
        {
          "output_type": "stream",
          "name": "stdout",
          "text": [
            "[1, 4, 9, 16, 25, 36, 49, 64, 81, 100]\n"
          ]
        }
      ]
    },
    {
      "cell_type": "code",
      "source": [
        "#18 Créez une liste contenant uniquement les nombres pairs de 1 à 20 en une seule ligne avec une compréhension de liste.\n",
        "pairs = [i for i in range(2, 21, 2)]\n",
        "print(pairs)"
      ],
      "metadata": {
        "colab": {
          "base_uri": "https://localhost:8080/"
        },
        "id": "g3D3P74qNraY",
        "outputId": "24e5457d-b829-4e59-f546-fc7e8042166a"
      },
      "execution_count": null,
      "outputs": [
        {
          "output_type": "stream",
          "name": "stdout",
          "text": [
            "[2, 4, 6, 8, 10, 12, 14, 16, 18, 20]\n"
          ]
        }
      ]
    },
    {
      "cell_type": "code",
      "source": [
        "#19 Écrivez une fonction qui filtre une liste pour ne garder que les mots qui ont plus de 5 lettres.\n",
        "def filtrer_mots(liste_mots):\n",
        "    return [mot for mot in liste_mots if len(mot) > 5]\n",
        "\n",
        "mots = [\"pomme\", \"banane\", \"cerise\", \"orange\", \"kiwi\"]\n",
        "mots_longs = filtrer_mots(mots)\n",
        "print(mots_longs)"
      ],
      "metadata": {
        "colab": {
          "base_uri": "https://localhost:8080/"
        },
        "id": "oNIO_zIlOE6_",
        "outputId": "e6a42a2f-c44e-41c9-c14e-eed2e2a492cf"
      },
      "execution_count": null,
      "outputs": [
        {
          "output_type": "stream",
          "name": "stdout",
          "text": [
            "['banane', 'cerise', 'orange']\n"
          ]
        }
      ]
    },
    {
      "cell_type": "code",
      "source": [
        "#20 prompt: À partir d’une liste de nombres [10, 20, 30, 40], créez une nouvelle\n",
        "#liste contenant les mêmes nombres divisés par 2.\n",
        "nombres = [10, 20, 30, 40]\n",
        "nombres_divises = [nombre / 2 for nombre in nombres]\n",
        "nombres_divises\n"
      ],
      "metadata": {
        "colab": {
          "base_uri": "https://localhost:8080/"
        },
        "id": "G84piesXOo1L",
        "outputId": "44742fcc-eb4c-427b-cc88-13080ebfac08"
      },
      "execution_count": null,
      "outputs": [
        {
          "output_type": "execute_result",
          "data": {
            "text/plain": [
              "[5.0, 10.0, 15.0, 20.0]"
            ]
          },
          "metadata": {},
          "execution_count": 86
        }
      ]
    },
    {
      "cell_type": "code",
      "source": [
        "#20 autre\n",
        "def diviser_par_deux(liste_nombres):\n",
        "    return [nombre / 2 for nombre in liste_nombres]\n",
        "def liste_nombres(nb):\n",
        "    nombres = []\n",
        "    for i in range(nb):\n",
        "        nombre = int(input(\"Entrez un nombre : \"))\n",
        "        nombres.append(nombre)\n",
        "    return nombres\n",
        "a_diviser = liste_nombres(int(input(\"Combien de nombres voulez vous diviser ?\")))\n",
        "nombres_divises = diviser_par_deux(a_diviser)\n",
        "nombres_divises"
      ],
      "metadata": {
        "colab": {
          "base_uri": "https://localhost:8080/"
        },
        "id": "kfs2O1L1PXzj",
        "outputId": "19983118-f1ee-4c48-a9f2-63c26b04e2c9"
      },
      "execution_count": null,
      "outputs": [
        {
          "name": "stdout",
          "output_type": "stream",
          "text": [
            "Combien de nombres voulez vous diviser ?2\n",
            "Entrez un nombre : 1500\n",
            "Entrez un nombre : 2305\n"
          ]
        },
        {
          "output_type": "execute_result",
          "data": {
            "text/plain": [
              "[750.0, 1152.5]"
            ]
          },
          "metadata": {},
          "execution_count": 89
        }
      ]
    },
    {
      "cell_type": "markdown",
      "source": [
        "**5️⃣ Dictionnaires**\n",
        "21. Créez un dictionnaire `eleve` contenant les clés `\"nom\"`, `\"âge\"` et `\"classe\"` avec des valeurs de votre choix.\n",
        "22. Ajoutez une nouvelle clé `\"note\"` avec la valeur `15`.\n",
        "23. Modifiez l’âge de l’élève dans le dictionnaire.\n",
        "24. Supprimez la clé `\"classe\"` du dictionnaire.\n",
        "25. Écrivez une boucle `for` qui affiche toutes les **clés** du dictionnaire."
      ],
      "metadata": {
        "id": "nov-L3LyRtTT"
      }
    },
    {
      "cell_type": "code",
      "source": [
        "#21 Créez un dictionnaire eleve contenant\n",
        "#les clés \"nom\", \"âge\" et \"classe\" avec des valeurs de votre choix.\n",
        "eleve = {\n",
        "    \"nom\": \"Jean Dupont\",\n",
        "    \"âge\": 16,\n",
        "    \"classe\": \"Première\"\n",
        "}\n",
        "print(eleve)\n"
      ],
      "metadata": {
        "colab": {
          "base_uri": "https://localhost:8080/"
        },
        "id": "WPSGpYJGQ7eY",
        "outputId": "65b8761f-0cea-4f94-9e55-7626d1ae140d"
      },
      "execution_count": null,
      "outputs": [
        {
          "output_type": "stream",
          "name": "stdout",
          "text": [
            "{'nom': 'Jean Dupont', 'âge': 16, 'classe': 'Première'}\n"
          ]
        }
      ]
    },
    {
      "cell_type": "code",
      "source": [
        "#21 autre\n",
        "# Get input from the user for each key\n",
        "nom = input(\"Entrez le nom de l'élève : \")\n",
        "age = int(input(\"Entrez l'âge de l'élève : \"))  # Convert age to an integer\n",
        "classe = input(\"Entrez la classe de l'élève : \")\n",
        "\n",
        "# Create the dictionary using the input values\n",
        "eleve = {\n",
        "    \"nom\": nom,\n",
        "    \"âge\": age,\n",
        "    \"classe\": classe\n",
        "}\n",
        "\n",
        "# Print the dictionary\n",
        "print(eleve)"
      ],
      "metadata": {
        "colab": {
          "base_uri": "https://localhost:8080/"
        },
        "id": "cTBH0OHlUenc",
        "outputId": "80243b3f-a833-429c-9f0a-f734460a49e1"
      },
      "execution_count": null,
      "outputs": [
        {
          "output_type": "stream",
          "name": "stdout",
          "text": [
            "Entrez le nom de l'élève : dadi\n",
            "Entrez l'âge de l'élève : 85\n",
            "Entrez la classe de l'élève : 2\n",
            "{'nom': 'dadi', 'âge': 85, 'classe': '2'}\n"
          ]
        }
      ]
    },
    {
      "cell_type": "code",
      "source": [
        "#22 Ajoutez une nouvelle clé \"note\" avec la valeur 15.\n",
        "note = input(\"Entrez la note de l'élève : \")\n",
        "eleve[\"note\"] = note\n",
        "print(eleve)"
      ],
      "metadata": {
        "colab": {
          "base_uri": "https://localhost:8080/"
        },
        "id": "luzZaAiQUzQB",
        "outputId": "629b9091-2e6b-4d3c-efb2-5d0dbc1580f0"
      },
      "execution_count": null,
      "outputs": [
        {
          "output_type": "stream",
          "name": "stdout",
          "text": [
            "Entrez la note de l'élève : 80\n",
            "{'nom': 'dadi', 'âge': 85, 'classe': '2', 'note': '80'}\n"
          ]
        }
      ]
    },
    {
      "cell_type": "code",
      "source": [
        "#23 Modifiez l’âge de l’élève dans le dictionnaire\n",
        "age = int(input(\"Entrez l'âge de l'élève : \"))\n",
        "eleve[\"âge\"] = age\n",
        "print(eleve)"
      ],
      "metadata": {
        "colab": {
          "base_uri": "https://localhost:8080/"
        },
        "id": "dlAuIcOiVa59",
        "outputId": "0bfbe9a0-d09b-4039-d995-2dee1e42de28"
      },
      "execution_count": null,
      "outputs": [
        {
          "output_type": "stream",
          "name": "stdout",
          "text": [
            "Entrez l'âge de l'élève : 80\n",
            "{'nom': 'dadi', 'âge': 80, 'classe': '2', 'note': '80'}\n"
          ]
        }
      ]
    },
    {
      "cell_type": "code",
      "source": [
        "#24 Supprimez la clé \"classe\" du dictionnaire.\n",
        "del eleve[\"classe\"]\n",
        "print(eleve)\n"
      ],
      "metadata": {
        "colab": {
          "base_uri": "https://localhost:8080/"
        },
        "id": "gkbY2XVWVpug",
        "outputId": "b85dc015-ab0d-490c-c0c6-11b9fd75814b"
      },
      "execution_count": null,
      "outputs": [
        {
          "output_type": "stream",
          "name": "stdout",
          "text": [
            "{'nom': 'dadi', 'âge': 80, 'note': '80'}\n"
          ]
        }
      ]
    },
    {
      "cell_type": "code",
      "source": [
        "#25 Écrivez une boucle for qui affiche toutes les clés du dictionnaire.\n",
        "for key in eleve:\n",
        "    print(key)"
      ],
      "metadata": {
        "colab": {
          "base_uri": "https://localhost:8080/"
        },
        "id": "yUnkwipEVwjz",
        "outputId": "5b6b5c60-6e9f-40e6-ead2-00eb48d2019e"
      },
      "execution_count": null,
      "outputs": [
        {
          "output_type": "stream",
          "name": "stdout",
          "text": [
            "nom\n",
            "âge\n",
            "note\n"
          ]
        }
      ]
    },
    {
      "cell_type": "markdown",
      "source": [
        "**6️⃣ Dictionnaires et Manipulations**\n",
        "26. Écrivez une boucle `for` qui affiche les **valeurs** du dictionnaire `eleve`.\n",
        "27. Affichez les clés et valeurs du dictionnaire sous la forme `\"clé : valeur\"`.\n",
        "28. Écrivez une fonction qui prend un dictionnaire et retourne la somme des valeurs (supposons que toutes les valeurs sont des nombres).\n",
        "29. Vérifiez si `\"note\"` est une clé du dictionnaire avant de l’afficher.\n",
        "30. Créez un dictionnaire contenant les notes de 3 étudiants et trouvez la moyenne des notes.\n"
      ],
      "metadata": {
        "id": "whxs0-eu0Cwi"
      }
    },
    {
      "cell_type": "code",
      "source": [
        "#26 Écrivez une boucle for qui affiche les valeurs du dictionnaire eleve.\n",
        "for value in eleve.values():\n",
        "    print(value)"
      ],
      "metadata": {
        "colab": {
          "base_uri": "https://localhost:8080/"
        },
        "id": "bQcBy9SS0HWx",
        "outputId": "92d87fd9-9f94-4136-ed46-8a88ec76e638"
      },
      "execution_count": null,
      "outputs": [
        {
          "output_type": "stream",
          "name": "stdout",
          "text": [
            "dadi\n",
            "80\n",
            "80\n"
          ]
        }
      ]
    },
    {
      "cell_type": "code",
      "source": [
        "#27 Affichez les clés et valeurs du dictionnaire sous la forme \"clé : valeur\".\n",
        "for key, value in eleve.items():\n",
        "    print(f\"{key} : {value}\")"
      ],
      "metadata": {
        "colab": {
          "base_uri": "https://localhost:8080/"
        },
        "id": "AGgqPWzT0geX",
        "outputId": "d9d3216d-bcba-47ff-a697-8ccee27059ba"
      },
      "execution_count": null,
      "outputs": [
        {
          "output_type": "stream",
          "name": "stdout",
          "text": [
            "nom : dadi\n",
            "âge : 80\n",
            "note : 80\n"
          ]
        }
      ]
    },
    {
      "cell_type": "code",
      "source": [
        "#28 Écrivez une fonction qui prend un dictionnaire et retourne la somme\n",
        "#des valeurs (supposons que toutes les valeurs sont des nombres).\n",
        "def somme_valeurs(dictionnaire):\n",
        "    somme = 0\n",
        "    for value in dictionnaire.values():\n",
        "       somme += value\n",
        "    return somme\n",
        "\n",
        "notes = {\"math\": 15, \"physique\": 17, \"anglais\": 14}\n",
        "print(somme_valeurs(notes))\n"
      ],
      "metadata": {
        "colab": {
          "base_uri": "https://localhost:8080/"
        },
        "id": "e58HwkRr6LEm",
        "outputId": "bd371458-54f7-4303-f2e2-4f2ac319d5c1"
      },
      "execution_count": null,
      "outputs": [
        {
          "output_type": "stream",
          "name": "stdout",
          "text": [
            "46\n"
          ]
        }
      ]
    },
    {
      "cell_type": "code",
      "source": [
        "#28 autre version\n",
        "def somme_valeurs(dico):\n",
        "    return sum(dico.values())\n",
        "\n",
        "# Exemple d'utilisation :\n",
        "notes = {\"math\": 15, \"physique\": 17, \"anglais\": 14}\n",
        "print(somme_valeurs(notes))  # Affiche 46"
      ],
      "metadata": {
        "colab": {
          "base_uri": "https://localhost:8080/"
        },
        "id": "1aSUf_0YCJmk",
        "outputId": "f0ff7b20-66b0-4bba-d099-d531f5006f64"
      },
      "execution_count": null,
      "outputs": [
        {
          "output_type": "stream",
          "name": "stdout",
          "text": [
            "46\n"
          ]
        }
      ]
    },
    {
      "cell_type": "code",
      "source": [
        "#29 Vérifiez si \"note\" est une clé du dictionnaire avant de l’afficher.\n",
        "if \"note\" in eleve:\n",
        "    print(eleve[\"note\"])\n",
        "else:\n",
        "    print(\"La clé 'note' n'existe pas dans le dictionnaire.\")"
      ],
      "metadata": {
        "colab": {
          "base_uri": "https://localhost:8080/"
        },
        "id": "Bot0AF5KCWV7",
        "outputId": "d2b2a4fe-1d1c-4ddd-bbc2-07fd629fae2f"
      },
      "execution_count": null,
      "outputs": [
        {
          "output_type": "stream",
          "name": "stdout",
          "text": [
            "80\n"
          ]
        }
      ]
    },
    {
      "cell_type": "code",
      "source": [
        "# 30. Calcul de la moyenne des notes de 3 étudiants\n",
        "def calculer_moyenne(notes):\n",
        "    total = sum(notes.values())\n",
        "    moyenne = total / len(notes)\n",
        "    return moyenne\n",
        "print(calculer_moyenne(notes))\n",
        "\n"
      ],
      "metadata": {
        "colab": {
          "base_uri": "https://localhost:8080/"
        },
        "id": "CV0_iF-7CiN6",
        "outputId": "09c3c316-cd1d-4b72-d164-6cf8f7b1480b"
      },
      "execution_count": null,
      "outputs": [
        {
          "output_type": "stream",
          "name": "stdout",
          "text": [
            "15.333333333333334\n"
          ]
        }
      ]
    },
    {
      "cell_type": "code",
      "source": [
        "#30 autre calcule\n",
        "# 30. Calcul de la moyenne des notes de 3 étudiants\n",
        "etudiants = {\n",
        "    \"Alice\": 18,\n",
        "    \"Bob\": 14,\n",
        "    \"Charlie\": 16\n",
        "}\n",
        "moyenne = sum(etudiants.values()) / len(etudiants)\n",
        "print(\"Moyenne des notes :\", moyenne)  # Affiche 16.0"
      ],
      "metadata": {
        "colab": {
          "base_uri": "https://localhost:8080/"
        },
        "id": "oUXxv9c_C92Q",
        "outputId": "28893471-c0d0-4e5b-a8a8-9e5729d021da"
      },
      "execution_count": null,
      "outputs": [
        {
          "output_type": "stream",
          "name": "stdout",
          "text": [
            "Moyenne des notes : 16.0\n"
          ]
        }
      ]
    },
    {
      "cell_type": "markdown",
      "source": [
        "## 📌 Pourquoi utiliser les **dictionnaires** en Python ? 📖\n",
        "\n",
        "Les **dictionnaires** sont des structures de données très puissantes en Python. Ils permettent d'associer des **clés** à des **valeurs**, ce qui facilite la recherche et la manipulation des données. Voyons pourquoi et comment les utiliser ! 🚀\n",
        "\n",
        "---\n",
        "\n",
        "### ✅ 1. Afficher les **valeurs** d'un dictionnaire 🔍\n",
        "\n",
        "On peut parcourir les valeurs d’un dictionnaire avec une boucle `for` :\n",
        "\n",
        "```python\n",
        "eleve = {\"nom\": \"Alice\", \"age\": 20, \"note\": 18}\n",
        "\n",
        "for valeur in eleve.values():\n",
        "    print(valeur)\n",
        "```\n",
        "\n",
        "💡 Cela affiche toutes les **valeurs** du dictionnaire.\n",
        "\n",
        "---\n",
        "\n",
        "### ✅ 2. Afficher les **clés et valeurs** sous forme de texte 📝\n",
        "\n",
        "Pour afficher chaque clé avec sa valeur, utilisez `items()` :\n",
        "\n",
        "```python\n",
        "eleve = {\"nom\": \"Alice\", \"age\": 20, \"note\": 18}\n",
        "\n",
        "for cle, valeur in eleve.items():\n",
        "    print(f\"{cle} : {valeur}\")\n",
        "```\n",
        "\n",
        "💡 Cela affiche :\n",
        "```\n",
        "nom : Alice\n",
        "age : 20\n",
        "note : 18\n",
        "```\n",
        "\n",
        "---\n",
        "\n",
        "### ✅ 3. Somme des valeurs d’un dictionnaire ➕\n",
        "\n",
        "Si les valeurs du dictionnaire sont **numériques**, on peut les additionner :\n",
        "\n",
        "```python\n",
        "def somme_valeurs(d):\n",
        "    return sum(d.values())\n",
        "\n",
        "notes = {\"maths\": 15, \"physique\": 14, \"informatique\": 18}\n",
        "print(somme_valeurs(notes))  # 47\n",
        "```\n",
        "\n",
        "💡 `sum()` additionne toutes les valeurs.\n",
        "\n",
        "---\n",
        "\n",
        "### ✅ 4. Vérifier si une clé existe 🔑\n",
        "\n",
        "Avant d’accéder à une clé, il est prudent de vérifier si elle existe :\n",
        "\n",
        "```python\n",
        "eleve = {\"nom\": \"Alice\", \"age\": 20}\n",
        "\n",
        "if \"note\" in eleve:\n",
        "    print(eleve[\"note\"])\n",
        "else:\n",
        "    print(\"Clé 'note' absente\")\n",
        "```\n",
        "\n",
        "💡 Cela évite les erreurs si la clé n’est pas présente.\n",
        "\n",
        "---\n",
        "\n",
        "### ✅ 5. Moyenne des notes de plusieurs étudiants 📊\n",
        "\n",
        "On peut stocker les notes de plusieurs étudiants dans un dictionnaire imbriqué :\n",
        "\n",
        "```python\n",
        "etudiants = {\n",
        "    \"Alice\": {\"maths\": 15, \"physique\": 14},\n",
        "    \"Bob\": {\"maths\": 12, \"physique\": 16},\n",
        "    \"Charlie\": {\"maths\": 18, \"physique\": 17}\n",
        "}\n",
        "\n",
        "# Calculer la moyenne de chaque étudiant\n",
        "def moyenne_notes(etudiants):\n",
        "    for nom, notes in etudiants.items():\n",
        "        moyenne = sum(notes.values()) / len(notes)\n",
        "        print(f\"{nom} a une moyenne de {moyenne:.2f}\")\n",
        "\n",
        "moyenne_notes(etudiants)\n",
        "```\n",
        "\n",
        "💡 Cela affiche :\n",
        "```\n",
        "Alice a une moyenne de 14.50\n",
        "Bob a une moyenne de 14.00\n",
        "Charlie a une moyenne de 17.50\n",
        "```\n",
        "\n",
        "---\n",
        "\n",
        "## 🎯 **Résumé : Pourquoi utiliser un dictionnaire ?**\n",
        "✔ Pour stocker des **associations clé-valeur** de manière rapide et efficace.\n",
        "✔ Pour **accéder facilement aux données** en utilisant les clés.\n",
        "✔ Pour **éviter les structures compliquées** (ex. listes imbriquées).\n",
        "✔ Pour **organiser et traiter des données** comme des notes d'étudiants.\n",
        "\n",
        "---\n",
        "\n",
        "🚀 **Les dictionnaires sont un outil essentiel en Python !** Maintenant, tu sais comment les utiliser efficacement. 😃🔥\n"
      ],
      "metadata": {
        "id": "5ownNFuxG1qn"
      }
    },
    {
      "cell_type": "markdown",
      "source": [
        "**7️⃣ Tuples**\n",
        "31. Créez un tuple `jours` contenant les jours de la semaine.\n",
        "32. Affichez le troisième jour du tuple.\n",
        "33. Essayez de modifier un élément du tuple et observez l’erreur.\n",
        "34. Convertissez le tuple `jours` en liste, ajoutez `\"Dimanche\"`, puis reconvertissez-le en tuple.\n",
        "35. Écrivez une fonction qui prend un tuple de nombres et retourne le plus grand élément.\n"
      ],
      "metadata": {
        "id": "7qIjdkdmDH2Q"
      }
    },
    {
      "cell_type": "code",
      "source": [
        "#31 Créez un tuple jours contenant les jours de la semaine.\n",
        "jours = (\"Lundi\", \"Mardi\", \"Mercredi\", \"Jeudi\", \"Vendredi\", \"Samedi\", \"Dimanche\")\n",
        "print(jours)"
      ],
      "metadata": {
        "colab": {
          "base_uri": "https://localhost:8080/"
        },
        "id": "KBdlOn9mDO8X",
        "outputId": "c778ee7e-34bd-41e6-afca-910db4c743d1"
      },
      "execution_count": 8,
      "outputs": [
        {
          "output_type": "stream",
          "name": "stdout",
          "text": [
            "('Lundi', 'Mardi', 'Mercredi', 'Jeudi', 'Vendredi', 'Samedi', 'Dimanche')\n"
          ]
        }
      ]
    },
    {
      "cell_type": "code",
      "source": [
        "#32 Affichez le troisième jour du tuple.\n",
        "print(jours[2])\n"
      ],
      "metadata": {
        "colab": {
          "base_uri": "https://localhost:8080/"
        },
        "id": "74WgYJnxDapv",
        "outputId": "27ffd572-1c29-42ab-9682-6cc7d6413fe7"
      },
      "execution_count": null,
      "outputs": [
        {
          "output_type": "stream",
          "name": "stdout",
          "text": [
            "Mercredi\n"
          ]
        }
      ]
    },
    {
      "cell_type": "code",
      "source": [
        "#33 Essayez de modifier un élément du tuple et observez l’erreur.\n",
        "try:\n",
        "    jours[2] = \"Mercredi modifié\"\n",
        "except TypeError as e:\n",
        "    print(f\"Erreur de type : {e}\")\n",
        "\n"
      ],
      "metadata": {
        "colab": {
          "base_uri": "https://localhost:8080/"
        },
        "id": "-sHP9NPDDltn",
        "outputId": "6a12dd7c-1ef0-4206-8c0c-b48f2b4e32bf"
      },
      "execution_count": null,
      "outputs": [
        {
          "output_type": "stream",
          "name": "stdout",
          "text": [
            "Erreur de type : 'tuple' object does not support item assignment\n"
          ]
        }
      ]
    },
    {
      "cell_type": "code",
      "source": [
        "#34 Convertissez le tuple jours en liste, ajoutez \"Dimanche\",\n",
        "#puis reconvertissez-le en tuple.\n",
        "jours_liste = list(jours)\n",
        "jours_liste.append(\"Dimanche\")\n",
        "jours = tuple(jours_liste)\n",
        "print(jours)"
      ],
      "metadata": {
        "colab": {
          "base_uri": "https://localhost:8080/"
        },
        "id": "dry7M3X1D6nO",
        "outputId": "e12d9338-5828-4498-d7a5-6b082545c1cd"
      },
      "execution_count": null,
      "outputs": [
        {
          "output_type": "stream",
          "name": "stdout",
          "text": [
            "('Lundi', 'Mardi', 'Mercredi', 'Jeudi', 'Vendredi', 'Samedi', 'Dimanche', 'Dimanche')\n"
          ]
        }
      ]
    },
    {
      "cell_type": "code",
      "source": [
        "#35 Écrivez une fonction qui prend\n",
        "#un tuple de nombres et retourne le plus grand élément.\n",
        "def trouver_plus_grand(tuple_nombres):\n",
        "    plus_grand = tuple_nombres[0]\n",
        "    for nombre in tuple_nombres:\n",
        "        if nombre > plus_grand:\n",
        "            plus_grand = nombre\n",
        "    return plus_grand\n",
        "\n",
        "print(trouver_plus_grand(jours))\n"
      ],
      "metadata": {
        "colab": {
          "base_uri": "https://localhost:8080/"
        },
        "id": "vDLcyi7tEQpW",
        "outputId": "d9c126f0-bb1d-42da-ee5a-ef4582d90988"
      },
      "execution_count": null,
      "outputs": [
        {
          "output_type": "stream",
          "name": "stdout",
          "text": [
            "Vendredi\n"
          ]
        }
      ]
    },
    {
      "cell_type": "code",
      "source": [
        "# 35. autre  Fonction qui retourne le plus grand élément d'un tuple de nombres\n",
        "def max_tuple(t):\n",
        "    return max(t)\n",
        "\n",
        "# Exemple d'utilisation :\n",
        "nombres = (12, 45, 78, 3, 56)\n",
        "print(\"Plus grand élément :\", max_tuple(nombres))  # Affiche 78"
      ],
      "metadata": {
        "colab": {
          "base_uri": "https://localhost:8080/"
        },
        "id": "Qs4H-S9jEtqQ",
        "outputId": "46910272-b135-478e-a7f3-da2860c401c9"
      },
      "execution_count": null,
      "outputs": [
        {
          "output_type": "stream",
          "name": "stdout",
          "text": [
            "Plus grand élément : 78\n"
          ]
        }
      ]
    },
    {
      "cell_type": "markdown",
      "source": [
        "## 📌 Pourquoi utiliser les **tuples** en Python ? 🤔\n",
        "\n",
        "Les **tuples** sont des structures de données **immuables** en Python, c'est-à-dire qu'on ne peut **pas modifier leurs éléments** après leur création. Alors, pourquoi les utiliser au lieu des listes ? Voici quelques raisons clés :\n",
        "\n",
        "---\n",
        "\n",
        "### ✅ 1. Protéger les données qui ne doivent pas changer 🛡️\n",
        "\n",
        "Si vous avez des données **fixes** qui ne doivent pas être modifiées par erreur, utilisez un tuple.\n",
        "\n",
        "```python\n",
        "jours = (\"Lundi\", \"Mardi\", \"Mercredi\", \"Jeudi\", \"Vendredi\", \"Samedi\", \"Dimanche\")\n",
        "```\n",
        "\n",
        "Les jours de la semaine **ne changent jamais**, donc une **tuple** est plus sûre qu'une liste.\n",
        "\n",
        "---\n",
        "\n",
        "### ✅ 2. Plus rapide et plus efficace 🚀\n",
        "\n",
        "Les tuples sont **plus rapides** que les listes et consomment **moins de mémoire**.\n",
        "\n",
        "```python\n",
        "import timeit\n",
        "\n",
        "temps_liste = timeit.timeit(stmt=\"[1, 2, 3, 4, 5]\", number=1000000)\n",
        "temps_tuple = timeit.timeit(stmt=\"(1, 2, 3, 4, 5)\", number=1000000)\n",
        "\n",
        "print(\"Temps avec liste:\", temps_liste)\n",
        "print(\"Temps avec tuple:\", temps_tuple)\n",
        "```\n",
        "\n",
        "💡 **Résultat :** Le tuple est plus rapide car il ne gère pas les modifications.\n",
        "\n",
        "---\n",
        "\n",
        "### ✅ 3. Utilisable comme **clé de dictionnaire** 🔑\n",
        "\n",
        "Les listes **ne peuvent pas** être utilisées comme clés dans un dictionnaire car elles sont modifiables, mais les tuples **oui** !\n",
        "\n",
        "```python\n",
        "coordonnees = {\n",
        "    (48.8566, 2.3522): \"Paris\",\n",
        "    (40.7128, -74.0060): \"New York\"\n",
        "}\n",
        "\n",
        "print(coordonnees[(48.8566, 2.3522)])  # Affiche \"Paris\"\n",
        "```\n",
        "\n",
        "Ici, chaque clé est une **tuple** avec des coordonnées **(latitude, longitude)**.\n",
        "\n",
        "---\n",
        "\n",
        "### ✅ 4. Retourner plusieurs valeurs d’une fonction 🎁\n",
        "\n",
        "Les tuples permettent à une fonction de retourner **plusieurs valeurs**.\n",
        "\n",
        "```python\n",
        "def calculs(a, b):\n",
        "    return a + b, a * b  # Retourne un tuple (somme, produit)\n",
        "\n",
        "resultat = calculs(3, 4)\n",
        "print(resultat)  # (7, 12)\n",
        "\n",
        "somme, produit = calculs(3, 4)  # Déballage\n",
        "print(somme, produit)  # 7 12\n",
        "```\n",
        "\n",
        "💡 Cela rend le code **plus simple et plus efficace** !\n",
        "\n",
        "---\n",
        "\n",
        "## 🎯 **Résumé : Quand utiliser un tuple ?**\n",
        "✔ Quand les **données ne doivent pas changer** (ex. jours de la semaine, mois, coordonnées GPS).\n",
        "✔ Quand on veut **optimiser les performances** (les tuples sont plus rapides que les listes).\n",
        "✔ Quand on veut utiliser une structure **comme clé d'un dictionnaire**.\n",
        "✔ Quand une fonction doit **retourner plusieurs valeurs**.\n",
        "\n",
        "---\n",
        "\n",
        "🚀 **Les tuples sont un outil puissant et pratique en Python !** Maintenant, tu sais quand et comment les utiliser. 😃🔥\n"
      ],
      "metadata": {
        "id": "TLQs9CRtGPOv"
      }
    },
    {
      "cell_type": "markdown",
      "source": [
        "**8️⃣ Tuples et Itérations**\n",
        "36. Écrivez une boucle `for` qui affiche chaque élément du tuple `jours`.\n",
        "37. Créez un tuple contenant des notes `[15, 12, 18, 9]`, trouvez la moyenne.\n",
        "38. Utilisez `enumerate()` pour afficher les éléments du tuple avec leur index.\n",
        "39. Écrivez une fonction qui prend un tuple de mots et retourne le mot le plus long.\n",
        "40. Créez un tuple contenant 5 valeurs, puis utilisez l’opérateur `*` pour les attribuer à 5 variables distinctes.\n"
      ],
      "metadata": {
        "id": "iBjJraDI9rLy"
      }
    },
    {
      "cell_type": "code",
      "source": [
        "#36 Écrivez une boucle for qui affiche chaque élément du tuple jours.\n",
        "for jour in jours:\n",
        "    print(jour)\n"
      ],
      "metadata": {
        "colab": {
          "base_uri": "https://localhost:8080/"
        },
        "id": "MyJnNO6D9qRR",
        "outputId": "fa8091be-537f-4588-cde4-e89da327cae1"
      },
      "execution_count": 9,
      "outputs": [
        {
          "output_type": "stream",
          "name": "stdout",
          "text": [
            "Lundi\n",
            "Mardi\n",
            "Mercredi\n",
            "Jeudi\n",
            "Vendredi\n",
            "Samedi\n",
            "Dimanche\n"
          ]
        }
      ]
    },
    {
      "cell_type": "code",
      "source": [
        "# 37. Trouver la moyenne des notes\n",
        "def calculer_moyenne(notes):\n",
        "    return sum(notes) / len(notes)\n",
        "\n",
        "notes = (80, 50, 68, 92)\n",
        "print(\"Moyenne:\", calculer_moyenne(notes))"
      ],
      "metadata": {
        "colab": {
          "base_uri": "https://localhost:8080/"
        },
        "id": "j7USPyG2-D3B",
        "outputId": "a641b6ac-4184-47aa-abf3-d3ddced5a651"
      },
      "execution_count": 11,
      "outputs": [
        {
          "output_type": "stream",
          "name": "stdout",
          "text": [
            "Moyenne: 72.5\n"
          ]
        }
      ]
    },
    {
      "cell_type": "code",
      "source": [
        "#38. Utiliser enumerate() pour afficher les éléments avec leur index\n",
        "for index, valeur in enumerate(jours):\n",
        "    print(f\"Index {index}: {valeur}\")"
      ],
      "metadata": {
        "colab": {
          "base_uri": "https://localhost:8080/"
        },
        "id": "vWUW5lBI-sJo",
        "outputId": "9a7f2b57-5609-4d0c-90b0-8643ef3ca82b"
      },
      "execution_count": 12,
      "outputs": [
        {
          "output_type": "stream",
          "name": "stdout",
          "text": [
            "Index 0: Lundi\n",
            "Index 1: Mardi\n",
            "Index 2: Mercredi\n",
            "Index 3: Jeudi\n",
            "Index 4: Vendredi\n",
            "Index 5: Samedi\n",
            "Index 6: Dimanche\n"
          ]
        }
      ]
    },
    {
      "cell_type": "code",
      "source": [
        "# 39. Fonction qui retourne le mot le plus long d'un tuple\n",
        "def mot_plus_long(mots):\n",
        "    return max(mots, key=len)\n",
        "mots = (\"Bonjour\", \"Python\", \"Programmation\", \"Tuple\")\n",
        "print(\"Mot le plus long:\", mot_plus_long(mots))\n"
      ],
      "metadata": {
        "colab": {
          "base_uri": "https://localhost:8080/"
        },
        "id": "2V-sY8Tb-0In",
        "outputId": "f732fd6e-9983-4d28-fffe-0427a63bd1b5"
      },
      "execution_count": 14,
      "outputs": [
        {
          "output_type": "stream",
          "name": "stdout",
          "text": [
            "Mot le plus long: Programmation\n"
          ]
        }
      ]
    },
    {
      "cell_type": "code",
      "source": [
        "# 40. Utilisation de l’opérateur * pour attribuer les valeurs du\n",
        "#tuple à des variables\n",
        "def decomposer_tuple(t):\n",
        "    var1, var2, var3 = t\n",
        "    return var1, var2, var3\n",
        "\n",
        "print(decomposer_tuple((3, 2, 3)))\n"
      ],
      "metadata": {
        "colab": {
          "base_uri": "https://localhost:8080/"
        },
        "id": "SRDqYQcJ_BWV",
        "outputId": "b2294e9a-b564-4e33-99e6-265290950e0b"
      },
      "execution_count": 18,
      "outputs": [
        {
          "output_type": "stream",
          "name": "stdout",
          "text": [
            "(3, 2, 3)\n"
          ]
        }
      ]
    },
    {
      "cell_type": "code",
      "source": [
        "# 40 autre, Utilisation de l’opérateur * pour attribuer les valeurs du tuple à des variables\n",
        "valeurs = (10, 20, 30, 40, 50)\n",
        "a, b, c, d, e = valeurs\n",
        "print(a, b, c, d, e)"
      ],
      "metadata": {
        "colab": {
          "base_uri": "https://localhost:8080/"
        },
        "id": "WDuh3A5b_d1G",
        "outputId": "43714f53-c6f2-4fe6-bf29-a548c11e0063"
      },
      "execution_count": 19,
      "outputs": [
        {
          "output_type": "stream",
          "name": "stdout",
          "text": [
            "10 20 30 40 50\n"
          ]
        }
      ]
    }
  ]
}