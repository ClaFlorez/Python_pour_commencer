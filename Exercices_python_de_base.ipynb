{
  "nbformat": 4,
  "nbformat_minor": 0,
  "metadata": {
    "colab": {
      "provenance": [],
      "authorship_tag": "ABX9TyNiu5AJwXl+VyqFDUvmt4a2",
      "include_colab_link": true
    },
    "kernelspec": {
      "name": "python3",
      "display_name": "Python 3"
    },
    "language_info": {
      "name": "python"
    }
  },
  "cells": [
    {
      "cell_type": "markdown",
      "metadata": {
        "id": "view-in-github",
        "colab_type": "text"
      },
      "source": [
        "<a href=\"https://colab.research.google.com/github/ClaFlorez/Python_pour_commencer/blob/main/Exercices_python_de_base.ipynb\" target=\"_parent\"><img src=\"https://colab.research.google.com/assets/colab-badge.svg\" alt=\"Open In Colab\"/></a>"
      ]
    },
    {
      "cell_type": "code",
      "execution_count": null,
      "metadata": {
        "colab": {
          "base_uri": "https://localhost:8080/",
          "height": 105
        },
        "id": "vx9aTy1W_nt2",
        "outputId": "e16c42fe-30f4-4821-d60c-2d27d2cb8edf"
      },
      "outputs": [
        {
          "output_type": "stream",
          "name": "stdout",
          "text": [
            "1\n",
            "1\n",
            "2\n",
            "3\n"
          ]
        },
        {
          "output_type": "execute_result",
          "data": {
            "text/plain": [
              "'testing hello, world!'"
            ],
            "application/vnd.google.colaboratory.intrinsic+json": {
              "type": "string"
            }
          },
          "metadata": {},
          "execution_count": 1
        }
      ],
      "source": [
        "x = 1     # Assign 1 to variable x\n",
        "print(x)  # Print the value of the variable x\n",
        "# Output: 1\n",
        "\n",
        "x + 1\n",
        "# Output: 2\n",
        "\n",
        "y = x / 2\n",
        "y\n",
        "# Output: 0.5\n",
        "\n",
        "# You can place multiple statements in one line, separated by semicolon.\n",
        "print(x); print(x+1); print(x+2)  # No ending semicolon\n",
        "# Output:\n",
        "# 1\n",
        "# 2\n",
        "# 3\n",
        "\n",
        "# An expression in brackets [] (i.e., list) can span multiple lines\n",
        "x = [1,\n",
        "     22,\n",
        "     333]  # Re-assign a list denoted as [v1, v2, ...] to variable x\n",
        "x\n",
        "# Output: [1, 22, 333]\n",
        "\n",
        "# An expression in braces {} (i.e., associative array) can also span multiple lines\n",
        "x = {'name':'Peter',\n",
        "     'gender':'male',\n",
        "     'age':21\n",
        "    }   # Re-assign a dictionary denoted as {k1:v1, k2:v2,...} to variable x\n",
        "x\n",
        "# Output: {'name': 'Peter', 'gender': 'male', 'age': 21}\n",
        "\n",
        "# An expression in parentheses () can also span multiple lines\n",
        "# You can break a long expression into several lines by enclosing it with parentheses ()\n",
        "x =(1 +\n",
        "    2\n",
        "    + 3\n",
        "    -\n",
        "    4)\n",
        "x\n",
        "# Output: 2\n",
        "\n",
        "# You can break a long string into several lines with parentheses () too\n",
        "s = ('testing '   # No commas\n",
        "     'hello, '\n",
        "     'world!')\n",
        "s\n",
        "# Output: 'testing hello, world!'\n",
        "° °"
      ]
    },
    {
      "cell_type": "code",
      "source": [
        "2 ** 2  # 2 elevado a 888\n",
        "s1 = 'pomme'\n",
        "s1\n",
        "s2 = \"orange\"\n",
        "s2\n",
        "s3 =\"\\\"orange\\\"\"\n",
        "s3"
      ],
      "metadata": {
        "colab": {
          "base_uri": "https://localhost:8080/",
          "height": 36
        },
        "id": "kpJcQMOa2xEL",
        "outputId": "85b43a38-06a2-4588-bb3e-d10375b0b797"
      },
      "execution_count": null,
      "outputs": [
        {
          "output_type": "execute_result",
          "data": {
            "text/plain": [
              "'\"orange\"'"
            ],
            "application/vnd.google.colaboratory.intrinsic+json": {
              "type": "string"
            }
          },
          "metadata": {},
          "execution_count": 14
        }
      ]
    },
    {
      "cell_type": "code",
      "source": [
        "s3 =\"\\\"orange\\\"\"\n",
        "s3"
      ],
      "metadata": {
        "colab": {
          "base_uri": "https://localhost:8080/",
          "height": 36
        },
        "id": "xelC2eDt3ypk",
        "outputId": "efc36792-3a95-4f12-d573-02fd31b3f261"
      },
      "execution_count": null,
      "outputs": [
        {
          "output_type": "execute_result",
          "data": {
            "text/plain": [
              "'\"orange\"'"
            ],
            "application/vnd.google.colaboratory.intrinsic+json": {
              "type": "string"
            }
          },
          "metadata": {},
          "execution_count": 15
        }
      ]
    },
    {
      "cell_type": "code",
      "source": [
        "s4 = \"\"\"testing\n",
        "12345\"\"\"\n",
        "s4"
      ],
      "metadata": {
        "colab": {
          "base_uri": "https://localhost:8080/",
          "height": 36
        },
        "id": "cWR7v-1T36vL",
        "outputId": "4886c263-ed63-403d-c457-daf26278f03e"
      },
      "execution_count": null,
      "outputs": [
        {
          "output_type": "execute_result",
          "data": {
            "text/plain": [
              "'testing\\n12345'"
            ],
            "application/vnd.google.colaboratory.intrinsic+json": {
              "type": "string"
            }
          },
          "metadata": {},
          "execution_count": 19
        }
      ]
    },
    {
      "cell_type": "code",
      "source": [
        "x = 1,23456\n",
        "type(x)\n",
        "round(x)"
      ],
      "metadata": {
        "colab": {
          "base_uri": "https://localhost:8080/",
          "height": 183
        },
        "id": "Qzm9IPgj4rNY",
        "outputId": "d822abd4-27b7-4c28-80e2-72be8f82d2a4"
      },
      "execution_count": null,
      "outputs": [
        {
          "output_type": "error",
          "ename": "TypeError",
          "evalue": "type tuple doesn't define __round__ method",
          "traceback": [
            "\u001b[0;31m---------------------------------------------------------------------------\u001b[0m",
            "\u001b[0;31mTypeError\u001b[0m                                 Traceback (most recent call last)",
            "\u001b[0;32m<ipython-input-22-52443f480c3f>\u001b[0m in \u001b[0;36m<cell line: 0>\u001b[0;34m()\u001b[0m\n\u001b[1;32m      1\u001b[0m \u001b[0mx\u001b[0m \u001b[0;34m=\u001b[0m \u001b[0;36m1\u001b[0m\u001b[0;34m,\u001b[0m\u001b[0;36m23456\u001b[0m\u001b[0;34m\u001b[0m\u001b[0;34m\u001b[0m\u001b[0m\n\u001b[1;32m      2\u001b[0m \u001b[0mtype\u001b[0m\u001b[0;34m(\u001b[0m\u001b[0mx\u001b[0m\u001b[0;34m)\u001b[0m\u001b[0;34m\u001b[0m\u001b[0;34m\u001b[0m\u001b[0m\n\u001b[0;32m----> 3\u001b[0;31m \u001b[0mround\u001b[0m\u001b[0;34m(\u001b[0m\u001b[0mx\u001b[0m\u001b[0;34m)\u001b[0m\u001b[0;34m\u001b[0m\u001b[0;34m\u001b[0m\u001b[0m\n\u001b[0m",
            "\u001b[0;31mTypeError\u001b[0m: type tuple doesn't define __round__ method"
          ]
        }
      ]
    },
    {
      "cell_type": "code",
      "source": [
        "type(123)\n",
        "#<class 'int'>"
      ],
      "metadata": {
        "id": "AShbq0mcqp4w",
        "outputId": "2ae1ba44-1414-4627-f930-6c985714f757",
        "colab": {
          "base_uri": "https://localhost:8080/"
        }
      },
      "execution_count": null,
      "outputs": [
        {
          "output_type": "execute_result",
          "data": {
            "text/plain": [
              "int"
            ]
          },
          "metadata": {},
          "execution_count": 2
        }
      ]
    },
    {
      "cell_type": "markdown",
      "source": [
        "## **1️⃣ Boucles `while`**\n",
        "1. Écrivez une boucle `while` qui affiche les nombres de 1 à 10.\n",
        "2. Modifiez votre boucle pour qu’elle n’affiche que les nombres pairs entre 1 et 10.\n",
        "3. Créez une boucle `while` qui demande à l’utilisateur de saisir un nombre positif. Si l’utilisateur entre un nombre négatif, la boucle s’arrête.\n",
        "4. Utilisez une boucle `while` pour calculer la somme des nombres de 1 à 100.\n",
        "5. Implémentez un programme qui demande un mot de passe à l’utilisateur jusqu’à ce qu’il entre `\"Python123\"`.\n"
      ],
      "metadata": {
        "id": "FfALPG5mf8bk"
      }
    },
    {
      "cell_type": "code",
      "source": [
        "#01 boucle while : nombres de 1 a 10\n",
        "i = 1\n",
        "while i <= 10:\n",
        "    print(i)\n",
        "    i += 1"
      ],
      "metadata": {
        "colab": {
          "base_uri": "https://localhost:8080/"
        },
        "id": "EqHTiAxRf8FS",
        "outputId": "82cf5d68-b910-49d6-9e9c-34295378e11a"
      },
      "execution_count": 2,
      "outputs": [
        {
          "output_type": "stream",
          "name": "stdout",
          "text": [
            "1\n",
            "2\n",
            "3\n",
            "4\n",
            "5\n",
            "6\n",
            "7\n",
            "8\n",
            "9\n",
            "10\n"
          ]
        }
      ]
    },
    {
      "cell_type": "code",
      "source": [
        "#02 boucle while, afficher les pairs\n",
        "i = 2\n",
        "while i <= 10:\n",
        "    print(i)\n",
        "    i += 2\n",
        "\n"
      ],
      "metadata": {
        "colab": {
          "base_uri": "https://localhost:8080/"
        },
        "id": "dZEhvW5BokEI",
        "outputId": "2e03cd24-d52f-4913-8317-ba9528aefb31"
      },
      "execution_count": 3,
      "outputs": [
        {
          "output_type": "stream",
          "name": "stdout",
          "text": [
            "2\n",
            "4\n",
            "6\n",
            "8\n",
            "10\n"
          ]
        }
      ]
    },
    {
      "cell_type": "code",
      "source": [
        "#02 boucle while, afficher les pairs * copilot\n",
        "i = 1\n",
        "while i <= 10:\n",
        "    if i % 2 == 0:\n",
        "        print(i)\n",
        "    i += 1"
      ],
      "metadata": {
        "colab": {
          "base_uri": "https://localhost:8080/"
        },
        "id": "CXzRa0xDo55l",
        "outputId": "097c59d7-c23e-4ac6-f1ae-d39255a50038"
      },
      "execution_count": 4,
      "outputs": [
        {
          "output_type": "stream",
          "name": "stdout",
          "text": [
            "2\n",
            "4\n",
            "6\n",
            "8\n",
            "10\n"
          ]
        }
      ]
    },
    {
      "cell_type": "code",
      "source": [
        "#Créez une boucle while qui demande à l’utilisateur de saisir un nombre positif. Si l’utilisateur entre un nombre négatif, la boucle s’arrête.\n",
        "while True:\n",
        "    nombre = int(input(\"Entrez un nombre positif : \"))\n",
        "    if nombre < 0:\n",
        "        break\n",
        "    print(\"Vous avez saisi :\", nombre)\n"
      ],
      "metadata": {
        "colab": {
          "base_uri": "https://localhost:8080/"
        },
        "id": "2TBI0oiHpGSf",
        "outputId": "81125ae6-8f9b-48ea-ac9b-68d24c225cfc"
      },
      "execution_count": 5,
      "outputs": [
        {
          "name": "stdout",
          "output_type": "stream",
          "text": [
            "Entrez un nombre positif : 3\n",
            "Vous avez saisi : 3\n",
            "Entrez un nombre positif : -1\n"
          ]
        }
      ]
    },
    {
      "cell_type": "code",
      "source": [
        "#Utilisez une boucle while pour calculer la somme des nombres de 1 à 100.\n",
        "\n",
        "somme = 0\n",
        "i = 1\n",
        "while i <= 100:\n",
        "    somme += i\n",
        "    i += 1\n",
        "print(\"La somme des nombres de 1 à 100 est :\", somme)\n",
        "\n"
      ],
      "metadata": {
        "colab": {
          "base_uri": "https://localhost:8080/"
        },
        "id": "xCpt69eppmf7",
        "outputId": "aa43fff7-c86e-49b2-ad7e-8fee829660e1"
      },
      "execution_count": 6,
      "outputs": [
        {
          "output_type": "stream",
          "name": "stdout",
          "text": [
            "La somme des nombres de 1 à 100 est : 5050\n"
          ]
        }
      ]
    },
    {
      "cell_type": "code",
      "source": [
        "#05 option poussé avec un for\n",
        "import getpass\n",
        "\n",
        "attempts = 3  # Allow 3 attempts\n",
        "\n",
        "for _ in range(attempts):\n",
        "    password = getpass.getpass(\"Enter the password: \")\n",
        "    if password == \"Python123\":\n",
        "        print(\"Welcome!\")\n",
        "        break  # Exit the loop if the password is correct\n",
        "    else:\n",
        "        print(\"Incorrect password. Please try again.\")\n",
        "else:\n",
        "    print(f\"Access denied after {attempts} attempts.\")"
      ],
      "metadata": {
        "colab": {
          "base_uri": "https://localhost:8080/"
        },
        "id": "6GLW7IXZwsJM",
        "outputId": "b081aaec-da52-4c31-d42e-cc28b5233904"
      },
      "execution_count": 22,
      "outputs": [
        {
          "output_type": "stream",
          "name": "stdout",
          "text": [
            "Enter the password: ··········\n",
            "Incorrect password. Please try again.\n",
            "Enter the password: ··········\n",
            "Incorrect password. Please try again.\n",
            "Enter the password: ··········\n",
            "Incorrect password. Please try again.\n",
            "Access denied after 3 attempts.\n"
          ]
        }
      ]
    },
    {
      "cell_type": "code",
      "source": [
        "#05 Implémentez un programme qui demande un mot de passe à l’utilisateur jusqu’à ce qu’il entre \"Python123\".\n",
        "import getpass\n",
        "i=1\n",
        "mot_de_passe = \"\"\n",
        "while mot_de_passe != \"Python123\" and i<=3:\n",
        "    mot_de_passe = getpass.getpass(\"Entrez le mot de passe: \")\n",
        "    if mot_de_passe == \"Python123\":\n",
        "        print(\"Bienvenue !\")\n",
        "    else:\n",
        "      i+=1\n",
        "if mot_de_passe != \"Python123\":\n",
        "    print(\"Accès refusé après 3 tentatives.\")"
      ],
      "metadata": {
        "colab": {
          "base_uri": "https://localhost:8080/"
        },
        "id": "iKeiis0CrPO0",
        "outputId": "2c64827a-1736-4411-ef8e-b36c0ab61294"
      },
      "execution_count": 19,
      "outputs": [
        {
          "output_type": "stream",
          "name": "stdout",
          "text": [
            "Entrez le mot de passe: ··········\n",
            "Entrez le mot de passe: ··········\n",
            "Entrez le mot de passe: ··········\n",
            "Accès refusé après 3 tentatives.\n"
          ]
        }
      ]
    },
    {
      "cell_type": "markdown",
      "source": [
        "**2️⃣ Boucles `for`**\n",
        "6. Écrivez une boucle `for` qui affiche les nombres de 1 à 10.\n",
        "7. Utilisez une boucle `for` pour afficher les éléments d’une liste `[\"pomme\", \"banane\", \"cerise\"]`.\n",
        "8. Écrivez un programme qui affiche chaque lettre du mot `\"PYTHON\"`, une par ligne.\n",
        "9. Utilisez `range()` dans une boucle `for` pour afficher les nombres de 5 à 50 avec un pas de 5.\n",
        "10. Écrivez une boucle `for` qui calcule la somme des nombres de 1 à 50.\n"
      ],
      "metadata": {
        "id": "XWfwDdV-wS_b"
      }
    },
    {
      "cell_type": "code",
      "source": [
        "#06 Écrivez une boucle for qui affiche les nombres de 1 à 10.\n",
        "for i in range(1, 11):\n",
        "    print(i)\n",
        "#"
      ],
      "metadata": {
        "colab": {
          "base_uri": "https://localhost:8080/"
        },
        "id": "4HbqMu_Dxbwu",
        "outputId": "6fdda575-d646-479f-c54e-1cc654969cf3"
      },
      "execution_count": 23,
      "outputs": [
        {
          "output_type": "stream",
          "name": "stdout",
          "text": [
            "1\n",
            "2\n",
            "3\n",
            "4\n",
            "5\n",
            "6\n",
            "7\n",
            "8\n",
            "9\n",
            "10\n"
          ]
        }
      ]
    },
    {
      "cell_type": "code",
      "source": [
        "#06 autre facon de faire\n",
        "i=1\n",
        "for i in range(1, 11):\n",
        "    print(i)"
      ],
      "metadata": {
        "colab": {
          "base_uri": "https://localhost:8080/"
        },
        "id": "c1YeNw4Gxp3b",
        "outputId": "49301213-821e-4891-d232-17cad4e2c33a"
      },
      "execution_count": 25,
      "outputs": [
        {
          "output_type": "stream",
          "name": "stdout",
          "text": [
            "1\n",
            "2\n",
            "3\n",
            "4\n",
            "5\n",
            "6\n",
            "7\n",
            "8\n",
            "9\n",
            "10\n"
          ]
        }
      ]
    },
    {
      "cell_type": "code",
      "source": [
        "#07 Utilisez une boucle for pour afficher les éléments d’une liste [\"pomme\", \"banane\", \"cerise\"]\n",
        "fruits = [\"pomme\", \"banane\", \"cerise\"]\n",
        "for fruit in fruits:\n",
        "    print(fruit)\n"
      ],
      "metadata": {
        "colab": {
          "base_uri": "https://localhost:8080/"
        },
        "id": "15moj4_RyTdU",
        "outputId": "ac3c3593-bd92-4b62-d050-2cfa6ff75793"
      },
      "execution_count": 26,
      "outputs": [
        {
          "output_type": "stream",
          "name": "stdout",
          "text": [
            "pomme\n",
            "banane\n",
            "cerise\n"
          ]
        }
      ]
    },
    {
      "cell_type": "code",
      "source": [
        "#07 autre version\n",
        "fruits = [\"pomme\", \"banane\", \"cerise\"]\n",
        "for i, fruit in enumerate(fruits):\n",
        "    if i < len(fruits) - 1:\n",
        "        print(fruit, end=\", \")\n",
        "    else:\n",
        "        print(fruit)"
      ],
      "metadata": {
        "colab": {
          "base_uri": "https://localhost:8080/"
        },
        "id": "L1kDVV8ay30z",
        "outputId": "45ddfb90-aadc-4839-9e97-ba77083d3982"
      },
      "execution_count": 27,
      "outputs": [
        {
          "output_type": "stream",
          "name": "stdout",
          "text": [
            "pomme, banane, cerise\n"
          ]
        }
      ]
    },
    {
      "cell_type": "code",
      "source": [
        "#08 Écrivez un programme qui affiche chaque lettre du mot \"PYTHON\", une par ligne.\n",
        "mot = \"PYTHON\"\n",
        "for lettre in mot:\n",
        "    print(lettre)"
      ],
      "metadata": {
        "colab": {
          "base_uri": "https://localhost:8080/"
        },
        "id": "56pBRM2hzlN1",
        "outputId": "5181ebe4-42bb-4bb7-dc1f-ad172b2a4338"
      },
      "execution_count": 28,
      "outputs": [
        {
          "output_type": "stream",
          "name": "stdout",
          "text": [
            "P\n",
            "Y\n",
            "T\n",
            "H\n",
            "O\n",
            "N\n"
          ]
        }
      ]
    },
    {
      "cell_type": "code",
      "source": [
        "#08 autre option\n",
        "mot = \"PYTHON\"\n",
        "for i, lettre in enumerate(mot):\n",
        "    if i < len(mot) - 1:\n",
        "        print(lettre, end=\", \")\n",
        "    else:\n",
        "        print(lettre)"
      ],
      "metadata": {
        "colab": {
          "base_uri": "https://localhost:8080/"
        },
        "id": "uND9Eeilz8_s",
        "outputId": "c106d34a-265f-42b1-cfef-26a6f4d7e004"
      },
      "execution_count": 29,
      "outputs": [
        {
          "output_type": "stream",
          "name": "stdout",
          "text": [
            "P, Y, T, H, O, N\n"
          ]
        }
      ]
    },
    {
      "cell_type": "code",
      "source": [
        "#09 Utilisez range() dans une boucle for pour afficher les nombres de 5 à 50 avec un pas de 5.\n",
        "for i in range(5, 51, 5):\n",
        "    print(i)"
      ],
      "metadata": {
        "colab": {
          "base_uri": "https://localhost:8080/"
        },
        "id": "-Bj6ftaq0USI",
        "outputId": "3ca00810-e9b6-47f2-fd8c-db2892c1a6c1"
      },
      "execution_count": 30,
      "outputs": [
        {
          "output_type": "stream",
          "name": "stdout",
          "text": [
            "5\n",
            "10\n",
            "15\n",
            "20\n",
            "25\n",
            "30\n",
            "35\n",
            "40\n",
            "45\n",
            "50\n"
          ]
        }
      ]
    },
    {
      "cell_type": "code",
      "source": [
        "#10 Écrivez une boucle for qui calcule la somme des nombres de 1 à 50.\n",
        "somme = 0\n",
        "for i in range(1, 51):\n",
        "    somme += i\n",
        "print(\"La somme des nombres de 1 à 50 est :\", somme)"
      ],
      "metadata": {
        "colab": {
          "base_uri": "https://localhost:8080/"
        },
        "id": "m_2oZIQb04rV",
        "outputId": "1b8b2218-400c-455d-a964-37b82197e080"
      },
      "execution_count": 31,
      "outputs": [
        {
          "output_type": "stream",
          "name": "stdout",
          "text": [
            "La somme des nombres de 1 à 50 est : 1275\n"
          ]
        }
      ]
    },
    {
      "cell_type": "markdown",
      "source": [
        "**3️⃣ Listes**\n",
        "11. Créez une liste `nombres` contenant les valeurs `[1, 2, 3, 4, 5]`. Ajoutez le nombre `6` à la fin.\n",
        "12. Remplacez le troisième élément de la liste par `100`.\n",
        "13. Supprimez le premier élément de la liste sans utiliser `del`.\n",
        "14. Écrivez une fonction qui prend une liste de nombres et retourne la somme des éléments.\n",
        "15. Créez une liste `mots` contenant 5 mots. Utilisez une boucle `for` pour afficher chaque mot en majuscu"
      ],
      "metadata": {
        "id": "L1EGM3BK1YcC"
      }
    },
    {
      "cell_type": "code",
      "source": [
        "#11 Créez une liste nombres contenant les valeurs [1, 2, 3, 4, 5]. Ajoutez le nombre 6 à la fin\n",
        "nombres = [1, 2, 3, 4, 5]\n",
        "nombres.append(6)\n",
        "print(nombres)\n"
      ],
      "metadata": {
        "colab": {
          "base_uri": "https://localhost:8080/"
        },
        "id": "SLDIf-no1Kdc",
        "outputId": "55659d1d-13ea-4b3c-b8e2-3605758f5cf0"
      },
      "execution_count": 59,
      "outputs": [
        {
          "output_type": "stream",
          "name": "stdout",
          "text": [
            "[1, 2, 3, 4, 5, 6]\n"
          ]
        }
      ]
    },
    {
      "cell_type": "code",
      "source": [
        "#12 Remplacez le troisième élément de la liste par 100\n",
        "nombres[2] = 100\n",
        "print(nombres)"
      ],
      "metadata": {
        "colab": {
          "base_uri": "https://localhost:8080/"
        },
        "id": "i1vYcMEc2TNb",
        "outputId": "901d41df-d8f8-4320-b32c-d83e92bfccea"
      },
      "execution_count": 50,
      "outputs": [
        {
          "output_type": "stream",
          "name": "stdout",
          "text": [
            "[1, 2, 100, 4, 5, 6]\n"
          ]
        }
      ]
    },
    {
      "cell_type": "code",
      "source": [
        "#13 Supprimez le premier élément de la liste sans utiliser del.\n",
        "nombres.pop(0)\n",
        "print(nombres)\n"
      ],
      "metadata": {
        "colab": {
          "base_uri": "https://localhost:8080/"
        },
        "id": "zBT0RLDE2r_i",
        "outputId": "f18c8da9-4748-47be-e0bc-7fbb634e31e7"
      },
      "execution_count": 42,
      "outputs": [
        {
          "output_type": "stream",
          "name": "stdout",
          "text": [
            "[2, 100, 4, 5, 6]\n"
          ]
        }
      ]
    },
    {
      "cell_type": "code",
      "source": [
        "#13 autre facon si j'ai connais la valeur du premier element\n",
        "eliminer = nombres[0]\n",
        "nombres.remove(eliminer)\n",
        "print(nombres)"
      ],
      "metadata": {
        "colab": {
          "base_uri": "https://localhost:8080/"
        },
        "id": "11YMpALt27sG",
        "outputId": "52f3e15b-1ad9-4933-8c9c-bebc92f2b678"
      },
      "execution_count": 57,
      "outputs": [
        {
          "output_type": "stream",
          "name": "stdout",
          "text": [
            "[4, 5, 6]\n"
          ]
        }
      ]
    },
    {
      "cell_type": "code",
      "source": [
        "#14 Écrivez une fonction qui prend une liste de nombres et retourne la somme des éléments.\n",
        "def somme_liste(nombres):\n",
        "    somme = 0\n",
        "    for nombre in nombres:\n",
        "        somme += nombre\n",
        "    return somme\n",
        "print(somme_liste(nombres))"
      ],
      "metadata": {
        "colab": {
          "base_uri": "https://localhost:8080/"
        },
        "id": "3au5oOgI27Ph",
        "outputId": "53587acc-2e26-42f7-90ef-940c1bcdba62"
      },
      "execution_count": 55,
      "outputs": [
        {
          "output_type": "stream",
          "name": "stdout",
          "text": [
            "115\n"
          ]
        }
      ]
    },
    {
      "cell_type": "code",
      "source": [
        "#autre 14\n",
        "def somme_liste(nombres):\n",
        "    return sum(nombres)\n",
        "print(somme_liste(nombres))"
      ],
      "metadata": {
        "colab": {
          "base_uri": "https://localhost:8080/"
        },
        "id": "FgkDTrkq4yPv",
        "outputId": "88dfa071-5914-4758-aac3-8ff751cd62ee"
      },
      "execution_count": 60,
      "outputs": [
        {
          "output_type": "stream",
          "name": "stdout",
          "text": [
            "21\n"
          ]
        }
      ]
    },
    {
      "cell_type": "code",
      "source": [
        "#15 Créez une liste mots contenant 5 mots. Utilisez une boucle for pour\n",
        "#afficher chaque mot en majuscu\n",
        "quantite_mots =int(input(\"Entrez combien de mots vous voulez remtrer :\"))\n",
        "def creer_liste(nb_mots):\n",
        "    mots = []\n",
        "    for i in range(nb_mots):\n",
        "        mot = input(\"Entrez un mot : \")\n",
        "        mots.append(mot)\n",
        "    return mots\n",
        "def changer_maj(mot):\n",
        "    for i in range(len(mot)):\n",
        "        mot[i] = mot[i].upper()\n",
        "    return mot\n",
        "liste = creer_liste(quantite_mots)\n",
        "print(changer_maj(liste))\n",
        "\n"
      ],
      "metadata": {
        "colab": {
          "base_uri": "https://localhost:8080/"
        },
        "id": "Q-5Kwtdq5LR2",
        "outputId": "accba551-ae84-4341-d1e8-716372f2a5f1"
      },
      "execution_count": 77,
      "outputs": [
        {
          "output_type": "stream",
          "name": "stdout",
          "text": [
            "Entrez combien de mots vous voulez remtrer :3\n",
            "Entrez un mot : juan\n",
            "Entrez un mot : tili\n",
            "Entrez un mot : yau\n",
            "['JUAN', 'TILI', 'YAU']\n"
          ]
        }
      ]
    },
    {
      "cell_type": "code",
      "source": [
        "#15 autre\n",
        "mots = [\"pomme\", \"banane\", \"cerise\", \"orange\", \"kiwi\"]\n",
        "for mot in mots:\n",
        "    print(mot.upper())\n"
      ],
      "metadata": {
        "colab": {
          "base_uri": "https://localhost:8080/"
        },
        "id": "AOlpwm8ABs6Z",
        "outputId": "185450f8-f359-4c78-e42a-528d1fc70610"
      },
      "execution_count": 78,
      "outputs": [
        {
          "output_type": "stream",
          "name": "stdout",
          "text": [
            "POMME\n",
            "BANANE\n",
            "CERISE\n",
            "ORANGE\n",
            "KIWI\n"
          ]
        }
      ]
    },
    {
      "cell_type": "markdown",
      "source": [
        "**4️⃣ Listes et Compréhensions de Listes**\n",
        "16. Créez une liste de carrés des nombres de 1 à 10 en utilisant une boucle `for`.\n",
        "17. Utilisez une **compréhension de liste** pour générer la même liste.\n",
        "18. Créez une liste contenant uniquement les nombres pairs de 1 à 20 en une seule ligne avec une **compréhension de liste**.\n",
        "19. Écrivez une fonction qui filtre une liste pour ne garder que les mots qui ont plus de 5 lettres.\n",
        "20. À partir d’une liste de nombres `[10, 20, 30, 40]`, créez une nouvelle liste contenant les mêmes nombres divisés par 2.\n"
      ],
      "metadata": {
        "id": "IPlMBNIkDigW"
      }
    },
    {
      "cell_type": "code",
      "source": [
        "#16 Créez une liste de carrés des nombres de 1 à 10 en utilisant une boucle for.\n",
        "quarer = []\n",
        "for i in range(1, 11):\n",
        "    quarer.append(i**2)\n",
        "print(quarer)"
      ],
      "metadata": {
        "colab": {
          "base_uri": "https://localhost:8080/"
        },
        "id": "fPPO8IhUDiOh",
        "outputId": "d06ec9cd-1a13-40b6-b6c7-675a87739d8f"
      },
      "execution_count": 82,
      "outputs": [
        {
          "output_type": "stream",
          "name": "stdout",
          "text": [
            "[1, 4, 9, 16, 25, 36, 49, 64, 81, 100]\n"
          ]
        }
      ]
    },
    {
      "cell_type": "code",
      "source": [
        "#17 Utilisez une compréhension de liste pour générer la même liste.\n",
        "carres = [i ** 2 for i in range(1, 11)]\n",
        "print(carres)\n"
      ],
      "metadata": {
        "colab": {
          "base_uri": "https://localhost:8080/"
        },
        "id": "qR7N3KQCNZm3",
        "outputId": "14737883-094a-48df-c034-0e950461b44c"
      },
      "execution_count": 83,
      "outputs": [
        {
          "output_type": "stream",
          "name": "stdout",
          "text": [
            "[1, 4, 9, 16, 25, 36, 49, 64, 81, 100]\n"
          ]
        }
      ]
    },
    {
      "cell_type": "code",
      "source": [
        "#18 Créez une liste contenant uniquement les nombres pairs de 1 à 20 en une seule ligne avec une compréhension de liste.\n",
        "pairs = [i for i in range(2, 21, 2)]\n",
        "print(pairs)"
      ],
      "metadata": {
        "colab": {
          "base_uri": "https://localhost:8080/"
        },
        "id": "g3D3P74qNraY",
        "outputId": "24e5457d-b829-4e59-f546-fc7e8042166a"
      },
      "execution_count": 84,
      "outputs": [
        {
          "output_type": "stream",
          "name": "stdout",
          "text": [
            "[2, 4, 6, 8, 10, 12, 14, 16, 18, 20]\n"
          ]
        }
      ]
    },
    {
      "cell_type": "code",
      "source": [
        "#19 Écrivez une fonction qui filtre une liste pour ne garder que les mots qui ont plus de 5 lettres.\n",
        "def filtrer_mots(liste_mots):\n",
        "    return [mot for mot in liste_mots if len(mot) > 5]\n",
        "\n",
        "mots = [\"pomme\", \"banane\", \"cerise\", \"orange\", \"kiwi\"]\n",
        "mots_longs = filtrer_mots(mots)\n",
        "print(mots_longs)"
      ],
      "metadata": {
        "colab": {
          "base_uri": "https://localhost:8080/"
        },
        "id": "oNIO_zIlOE6_",
        "outputId": "e6a42a2f-c44e-41c9-c14e-eed2e2a492cf"
      },
      "execution_count": 85,
      "outputs": [
        {
          "output_type": "stream",
          "name": "stdout",
          "text": [
            "['banane', 'cerise', 'orange']\n"
          ]
        }
      ]
    },
    {
      "cell_type": "code",
      "source": [
        "#20 prompt: À partir d’une liste de nombres [10, 20, 30, 40], créez une nouvelle\n",
        "#liste contenant les mêmes nombres divisés par 2.\n",
        "nombres = [10, 20, 30, 40]\n",
        "nombres_divises = [nombre / 2 for nombre in nombres]\n",
        "nombres_divises\n"
      ],
      "metadata": {
        "colab": {
          "base_uri": "https://localhost:8080/"
        },
        "id": "G84piesXOo1L",
        "outputId": "44742fcc-eb4c-427b-cc88-13080ebfac08"
      },
      "execution_count": 86,
      "outputs": [
        {
          "output_type": "execute_result",
          "data": {
            "text/plain": [
              "[5.0, 10.0, 15.0, 20.0]"
            ]
          },
          "metadata": {},
          "execution_count": 86
        }
      ]
    },
    {
      "cell_type": "code",
      "source": [
        "#20 autre\n",
        "def diviser_par_deux(liste_nombres):\n",
        "    return [nombre / 2 for nombre in liste_nombres]\n",
        "def liste_nombres(nb):\n",
        "    nombres = []\n",
        "    for i in range(nb):\n",
        "        nombre = int(input(\"Entrez un nombre : \"))\n",
        "        nombres.append(nombre)\n",
        "    return nombres\n",
        "a_diviser = liste_nombres(int(input(\"Combien de nombres voulez vous diviser ?\")))\n",
        "nombres_divises = diviser_par_deux(a_diviser)\n",
        "nombres_divises"
      ],
      "metadata": {
        "colab": {
          "base_uri": "https://localhost:8080/"
        },
        "id": "kfs2O1L1PXzj",
        "outputId": "19983118-f1ee-4c48-a9f2-63c26b04e2c9"
      },
      "execution_count": 89,
      "outputs": [
        {
          "name": "stdout",
          "output_type": "stream",
          "text": [
            "Combien de nombres voulez vous diviser ?2\n",
            "Entrez un nombre : 1500\n",
            "Entrez un nombre : 2305\n"
          ]
        },
        {
          "output_type": "execute_result",
          "data": {
            "text/plain": [
              "[750.0, 1152.5]"
            ]
          },
          "metadata": {},
          "execution_count": 89
        }
      ]
    },
    {
      "cell_type": "markdown",
      "source": [
        "**5️⃣ Dictionnaires**\n",
        "21. Créez un dictionnaire `eleve` contenant les clés `\"nom\"`, `\"âge\"` et `\"classe\"` avec des valeurs de votre choix.\n",
        "22. Ajoutez une nouvelle clé `\"note\"` avec la valeur `15`.\n",
        "23. Modifiez l’âge de l’élève dans le dictionnaire.\n",
        "24. Supprimez la clé `\"classe\"` du dictionnaire.\n",
        "25. Écrivez une boucle `for` qui affiche toutes les **clés** du dictionnaire."
      ],
      "metadata": {
        "id": "nov-L3LyRtTT"
      }
    },
    {
      "cell_type": "code",
      "source": [
        "#21 Créez un dictionnaire eleve contenant\n",
        "#les clés \"nom\", \"âge\" et \"classe\" avec des valeurs de votre choix.\n",
        "eleve = {\n",
        "    \"nom\": \"Jean Dupont\",\n",
        "    \"âge\": 16,\n",
        "    \"classe\": \"Première\"\n",
        "}\n",
        "print(eleve)\n"
      ],
      "metadata": {
        "colab": {
          "base_uri": "https://localhost:8080/"
        },
        "id": "WPSGpYJGQ7eY",
        "outputId": "35e6b25b-ad7d-4b34-ac56-40e367e80ec4"
      },
      "execution_count": 91,
      "outputs": [
        {
          "output_type": "stream",
          "name": "stdout",
          "text": [
            "{'nom': 'Jean Dupont', 'âge': 16, 'classe': 'Première'}\n"
          ]
        }
      ]
    },
    {
      "cell_type": "code",
      "source": [
        "#21 autre\n",
        "# Get input from the user for each key\n",
        "nom = input(\"Entrez le nom de l'élève : \")\n",
        "age = int(input(\"Entrez l'âge de l'élève : \"))  # Convert age to an integer\n",
        "classe = input(\"Entrez la classe de l'élève : \")\n",
        "\n",
        "# Create the dictionary using the input values\n",
        "eleve = {\n",
        "    \"nom\": nom,\n",
        "    \"âge\": age,\n",
        "    \"classe\": classe\n",
        "}\n",
        "\n",
        "# Print the dictionary\n",
        "print(eleve)"
      ],
      "metadata": {
        "colab": {
          "base_uri": "https://localhost:8080/"
        },
        "id": "cTBH0OHlUenc",
        "outputId": "16364325-b377-4439-e9d5-715baf154ede"
      },
      "execution_count": 92,
      "outputs": [
        {
          "output_type": "stream",
          "name": "stdout",
          "text": [
            "Entrez le nom de l'élève : claudia\n",
            "Entrez l'âge de l'élève : 90\n",
            "Entrez la classe de l'élève : geriatrico\n",
            "{'nom': 'claudia', 'âge': 90, 'classe': 'geriatrico'}\n"
          ]
        }
      ]
    },
    {
      "cell_type": "code",
      "source": [
        "#22 Ajoutez une nouvelle clé \"note\" avec la valeur 15.\n",
        "note = input(\"Entrez la note de l'élève : \")\n",
        "eleve[\"note\"] = note\n",
        "print(eleve)"
      ],
      "metadata": {
        "colab": {
          "base_uri": "https://localhost:8080/"
        },
        "id": "luzZaAiQUzQB",
        "outputId": "376a6a9c-d3f9-4bc1-ec92-6a8f28496f35"
      },
      "execution_count": 96,
      "outputs": [
        {
          "output_type": "stream",
          "name": "stdout",
          "text": [
            "Entrez la note de l'élève : 15\n",
            "{'nom': 'claudia', 'âge': 90, 'classe': 'geriatrico', 'note': '15'}\n"
          ]
        }
      ]
    },
    {
      "cell_type": "code",
      "source": [
        "#23 Modifiez l’âge de l’élève dans le dictionnaire\n",
        "age = int(input(\"Entrez l'âge de l'élève : \"))\n",
        "eleve[\"âge\"] = age\n",
        "print(eleve)"
      ],
      "metadata": {
        "colab": {
          "base_uri": "https://localhost:8080/"
        },
        "id": "dlAuIcOiVa59",
        "outputId": "8f1ced9c-a62d-4ac9-cda8-dd7737a2ba7d"
      },
      "execution_count": 97,
      "outputs": [
        {
          "output_type": "stream",
          "name": "stdout",
          "text": [
            "Entrez l'âge de l'élève : 45\n",
            "{'nom': 'claudia', 'âge': 45, 'classe': 'geriatrico', 'note': '15'}\n"
          ]
        }
      ]
    },
    {
      "cell_type": "code",
      "source": [
        "#24 Supprimez la clé \"classe\" du dictionnaire.\n",
        "del eleve[\"classe\"]\n",
        "print(eleve)\n"
      ],
      "metadata": {
        "colab": {
          "base_uri": "https://localhost:8080/"
        },
        "id": "gkbY2XVWVpug",
        "outputId": "8eb4bbc6-3a8f-4cba-8a5a-617f254388b4"
      },
      "execution_count": 98,
      "outputs": [
        {
          "output_type": "stream",
          "name": "stdout",
          "text": [
            "{'nom': 'claudia', 'âge': 45, 'note': '15'}\n"
          ]
        }
      ]
    },
    {
      "cell_type": "code",
      "source": [
        "#25 Écrivez une boucle for qui affiche toutes les clés du dictionnaire.\n",
        "for key in eleve:\n",
        "    print(key)"
      ],
      "metadata": {
        "colab": {
          "base_uri": "https://localhost:8080/"
        },
        "id": "yUnkwipEVwjz",
        "outputId": "984ea432-8eb7-4a04-fa86-27fa92c14406"
      },
      "execution_count": 99,
      "outputs": [
        {
          "output_type": "stream",
          "name": "stdout",
          "text": [
            "nom\n",
            "âge\n",
            "note\n"
          ]
        }
      ]
    }
  ]
}